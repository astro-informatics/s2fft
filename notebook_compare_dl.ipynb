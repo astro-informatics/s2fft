{
 "cells": [
  {
   "cell_type": "code",
   "execution_count": 1,
   "metadata": {},
   "outputs": [],
   "source": [
    "import numpy as np\n",
    "\n",
    "import pyssht as ssht\n",
    "import s2fft as s2f\n",
    "import s2fft.samples as samples\n",
    "import s2fft.quadrature as quadrature\n",
    "import s2fft.resampling as resampling\n",
    "import s2fft.wigner as wigner\n",
    "\n",
    "import jax\n",
    "from jax import jit, device_put\n",
    "import jax.numpy as jnp\n",
    "from jax.config import config\n",
    "\n",
    "import matplotlib.pyplot as plt\n",
    "\n",
    "config.update(\"jax_enable_x64\", True)"
   ]
  },
  {
   "cell_type": "code",
   "execution_count": 5,
   "metadata": {},
   "outputs": [],
   "source": [
    "## Sample data\n",
    "\n",
    "# input params\n",
    "L = 5  # 128 # in tests: 5\n",
    "spin = 2  # 2 # in tests: [0, 1, 2]\n",
    "sampling = \"mwss\"  #'dh' # in tests: [\"mw\", \"mwss\", \"dh\"]\n",
    "\n",
    "# generate spherical harmonics (ground truth)\n",
    "# random---modify to use JAX random key approach?\n",
    "DEFAULT_SEED = 8966433580120847635\n",
    "rn_gen = np.random.default_rng(DEFAULT_SEED)\n",
    "flm_gt = s2f.utils.generate_flm(\n",
    "    rn_gen, L, spin, reality=False\n",
    ")  \n",
    "\n",
    "# compute signal in time domain with ssht (starting point)\n",
    "f = ssht.inverse(\n",
    "    s2f.samples.flm_2d_to_1d(flm_gt, L),  # 2D indexed coeffs to 1D indexed\n",
    "    L,\n",
    "    Method=sampling.upper(),\n",
    "    Spin=spin,\n",
    "    Reality=False,\n",
    ") \n",
    "\n",
    "# thetas\n",
    "nside = None\n",
    "\n",
    "if sampling.lower() in [\"mw\", \"mwss\"]:\n",
    "    sampling = \"mwss\"\n",
    "    # f = resampling.upsample_by_two_mwss(f, L, spin)\n",
    "    thetas = samples.thetas(2 * L, sampling)\n",
    "\n",
    "else:\n",
    "    thetas = samples.thetas(L, sampling, nside)"
   ]
  },
  {
   "cell_type": "code",
   "execution_count": 7,
   "metadata": {},
   "outputs": [
    {
     "name": "stdout",
     "output_type": "stream",
     "text": [
      "<class 'jaxlib.xla_extension.DeviceArray'>\n",
      "(9,)\n"
     ]
    }
   ],
   "source": [
    "# Compute vectorised dl function with vmap\n",
    "dl_vmapped = jax.vmap(\n",
    "    jax.vmap(\n",
    "        wigner.turok_jax.compute_slice, # (theta, el, L, -spin)\n",
    "        in_axes=(0, None, None, None),\n",
    "        out_axes=-1,\n",
    "    ),\n",
    "    in_axes=(None, 0, None, None),\n",
    "    out_axes=0,\n",
    ")\n",
    "\n",
    "# Compute 3D array for dl (evaluate vmapped fn at range of thetas and el)\n",
    "dl_3D = dl_vmapped(thetas, \n",
    "                   jnp.array(range(abs(spin), L), dtype=np.int64), \n",
    "                   L, \n",
    "                   -spin) # inputs in the same order as original fn, but out axes as specified!\n",
    "dl_3D.shape\n",
    "\n",
    "print(type(dl_3D[0,:,0]))\n",
    "print(dl_3D[0,:,0].shape) # axes: el, (2L-1), theta ----OJO!!!!\n",
    "#\n",
    "# dl_vmapped(thetas,el_array,L,-spin)[1,:,0] == \n",
    "# dl at theta_i=0, el_i=1 (returns a vector of len 2L-1)"
   ]
  },
  {
   "cell_type": "code",
   "execution_count": null,
   "metadata": {},
   "outputs": [],
   "source": [
    "# Compute dl the usual way and check for each theta, el\n",
    "flag_same_slice = []\n",
    "flag_same = []\n",
    "for t, theta in enumerate(thetas):\n",
    "    el_i=0\n",
    "    for el in range(abs(spin), L):\n",
    "        dl = wigner.turok.compute_slice(theta, el, L, -spin) #shape (9,)\n",
    "        flag_same.append(np.allclose(dl,\n",
    "                                     dl_3D[el_i,:,t],\n",
    "                                     atol=1e-14))\n",
    "        print(dl)\n",
    "        print(dl_3D[el_i,:,t])\n",
    "        print('---')\n",
    "        flag_same_slice.append(np.allclose(dl[L-1-el:L-1+el+1],\n",
    "                                           dl_3D[el_i, L-1-el:L-1+el+1, t],\n",
    "                                           atol=1e-14))\n",
    "        el_i+=1\n",
    "        \n",
    "print(np.all(flag_same))\n",
    "print(np.all(flag_same_slice))"
   ]
  },
  {
   "cell_type": "code",
   "execution_count": 28,
   "metadata": {},
   "outputs": [
    {
     "name": "stdout",
     "output_type": "stream",
     "text": [
      "False\n",
      "True\n"
     ]
    }
   ],
   "source": [
    "# Check wigner compute slice? --- not the same for equal theta, el, L, -spin?\n",
    "flag_same_one_theta_el = []\n",
    "flag_same_slice = []\n",
    "for t, theta in enumerate(thetas):\n",
    "\n",
    "    for el in range(abs(spin), L):\n",
    "        dl = wigner.turok.compute_slice(theta, el, L, -spin) # shape 9,\n",
    "        dl_jax = wigner.turok_jax.compute_slice(theta, el, L, -spin) #shape 9, .block_until_ready()\n",
    "\n",
    "        # compare all 2L-1 terms\n",
    "        flag_same_one_theta_el.append(np.allclose(dl,dl_jax,atol=1e-14))\n",
    "\n",
    "        # compare only slice from L-1-el to L-1+el+1\n",
    "        flag_same_slice.append(np.allclose(dl[L-1-el:L-1+el+1],\n",
    "                                           dl_jax[L-1-el:L-1+el+1],\n",
    "                                           atol=1e-14))\n",
    "                                     \n",
    "\n",
    "print(np.all(flag_same_one_theta_el))\n",
    "print(np.all(flag_same_slice))"
   ]
  },
  {
   "cell_type": "code",
   "execution_count": 19,
   "metadata": {},
   "outputs": [
    {
     "data": {
      "text/plain": [
       "3"
      ]
     },
     "execution_count": 19,
     "metadata": {},
     "output_type": "execute_result"
    }
   ],
   "source": [
    "len(range(abs(spin), L))"
   ]
  },
  {
   "cell_type": "code",
   "execution_count": null,
   "metadata": {},
   "outputs": [],
   "source": []
  }
 ],
 "metadata": {
  "kernelspec": {
   "display_name": "Python 3.9.13 ('jax-astro2')",
   "language": "python",
   "name": "python3"
  },
  "language_info": {
   "codemirror_mode": {
    "name": "ipython",
    "version": 3
   },
   "file_extension": ".py",
   "mimetype": "text/x-python",
   "name": "python",
   "nbconvert_exporter": "python",
   "pygments_lexer": "ipython3",
   "version": "3.9.13"
  },
  "orig_nbformat": 4,
  "vscode": {
   "interpreter": {
    "hash": "19ead953c785f1bded8bcc3e77394fab45d20188e9271c3b12915874810ab57b"
   }
  }
 },
 "nbformat": 4,
 "nbformat_minor": 2
}
