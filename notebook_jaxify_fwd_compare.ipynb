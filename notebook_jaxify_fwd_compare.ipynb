{
 "cells": [
  {
   "cell_type": "code",
   "execution_count": 1,
   "metadata": {},
   "outputs": [],
   "source": [
    "import numpy as np\n",
    "\n",
    "import pyssht as ssht\n",
    "import s2fft as s2f\n",
    "\n",
    "import jax\n",
    "from jax import jit, device_put\n",
    "import jax.numpy as jnp\n",
    "from jax.config import config\n",
    "\n",
    "import matplotlib.pyplot as plt\n",
    "\n",
    "config.update(\"jax_enable_x64\", True)"
   ]
  },
  {
   "cell_type": "code",
   "execution_count": 3,
   "metadata": {},
   "outputs": [],
   "source": [
    "## Sample data\n",
    "\n",
    "# input params\n",
    "L = 5  # 128 # in tests: 5\n",
    "spin = 2  # 2 # in tests: [0, 1, 2]\n",
    "sampling = \"mwss\"  #'dh' # in tests: [\"mw\", \"mwss\", \"dh\"]\n",
    "\n",
    "# generate spherical harmonics (ground truth)\n",
    "# random---modify to use JAX random key approach?\n",
    "DEFAULT_SEED = 8966433580120847635\n",
    "rn_gen = np.random.default_rng(DEFAULT_SEED)\n",
    "flm_gt = s2f.utils.generate_flm(\n",
    "    rn_gen, L, spin, reality=False\n",
    ")  # flm_2d = flm_1d_to_2d(flm, L) # groundtruth sph harmonics?\n",
    "\n",
    "# compute signal in time domain (starting point)\n",
    "f = ssht.inverse(\n",
    "    s2f.samples.flm_2d_to_1d(flm_gt, L),  # 2D indexed coeffs to 1D indexed\n",
    "    L,\n",
    "    Method=sampling.upper(),\n",
    "    Spin=spin,\n",
    "    Reality=False,\n",
    ")  # use ssht to compute signal in time domain-- starting point\n"
   ]
  },
  {
   "cell_type": "code",
   "execution_count": 9,
   "metadata": {},
   "outputs": [
    {
     "name": "stdout",
     "output_type": "stream",
     "text": [
      "True\n",
      "2.93 ms ± 63.8 µs per loop (mean ± std. dev. of 7 runs, 100 loops each)\n"
     ]
    }
   ],
   "source": [
    "# Using direct with SOV + FFT Vectorised \n",
    "flm_sov_fft_vec = s2f.transform.forward_sov_fft_vectorized(f, L, spin, sampling)\n",
    "\n",
    "print(np.allclose(flm_gt, flm_sov_fft_vec, atol=1e-14))\n",
    "\n",
    "%timeit s2f.transform.forward_sov_fft_vectorized(f, L, spin, sampling)"
   ]
  },
  {
   "cell_type": "code",
   "execution_count": 4,
   "metadata": {},
   "outputs": [
    {
     "name": "stdout",
     "output_type": "stream",
     "text": [
      "<class 'numpy.ndarray'>\n",
      "False\n",
      "787 µs ± 17 µs per loop (mean ± std. dev. of 7 runs, 1,000 loops each)\n",
      "2.94 ms ± 46.9 µs per loop (mean ± std. dev. of 7 runs, 100 loops each)\n"
     ]
    }
   ],
   "source": [
    "## Using direct with SOV + FFT Vectorised + JAX TUROK ---Use this as GT for now\n",
    "# same as forward_sov_fft_vectorized but using wigner.turok_jax.compute_slice\n",
    "flm_sov_fft_vec_jax_turok = s2f.transform.forward_sov_fft_vectorized_jax_turok(\n",
    "    f, L, spin, sampling\n",
    ")\n",
    "\n",
    "print(type(flm_sov_fft_vec_jax_turok))\n",
    "print(np.allclose(flm_gt, flm_sov_fft_vec_jax_turok, atol=1e-14)) # ---Compared to GT gives FALSE OJO!\n",
    "\n",
    "%timeit s2f.transform.forward_sov_fft_vectorized_jax_turok(f, L, spin, sampling)\n",
    "%timeit s2f.transform.forward_sov_fft_vectorized(f, L, spin, sampling)"
   ]
  },
  {
   "cell_type": "code",
   "execution_count": 5,
   "metadata": {},
   "outputs": [
    {
     "name": "stdout",
     "output_type": "stream",
     "text": [
      "False\n",
      "42 ms ± 895 µs per loop (mean ± std. dev. of 7 runs, 10 loops each)\n"
     ]
    }
   ],
   "source": [
    "# JAX approach 0 (naive jaxifying)\n",
    "flm_jax_0 = s2f.transform.forward_sov_fft_vectorized_jax_0(\n",
    "    f, L, spin, sampling\n",
    ")\n",
    "# compare to alternative computation of flm: flm_sov_fft_vec_jax_turok\n",
    "print(np.allclose(flm_jax_0, \n",
    "                  flm_sov_fft_vec_jax_turok, #w/o padding: flm_sov_fft_vec_jax_turok[spin:L, :], \n",
    "                  atol=1e-14))\n",
    "\n",
    "%timeit s2f.transform.forward_sov_fft_vectorized_jax_0(f, L, spin, sampling).block_until_ready()"
   ]
  },
  {
   "cell_type": "code",
   "execution_count": 6,
   "metadata": {},
   "outputs": [
    {
     "name": "stdout",
     "output_type": "stream",
     "text": [
      "True\n",
      "2.76 ms ± 121 µs per loop (mean ± std. dev. of 7 runs, 100 loops each)\n"
     ]
    }
   ],
   "source": [
    "# JAX approach 1 (vectorised jaxifying)\n",
    "flm_jax_1 = s2f.transform.forward_sov_fft_vectorized_jax_1(\n",
    "    f, L, spin, sampling\n",
    ")\n",
    "# compare to alternative computation of flm: flm_sov_fft_vec_jax_turok\n",
    "print(np.allclose(flm_jax_1, \n",
    "                  flm_sov_fft_vec_jax_turok, #w/o padding: flm_sov_fft_vec_jax_turok[spin:L, :], \n",
    "                  atol=1e-14))\n",
    "\n",
    "%timeit s2f.transform.forward_sov_fft_vectorized_jax_1(f, L, spin, sampling).block_until_ready()"
   ]
  },
  {
   "cell_type": "code",
   "execution_count": 7,
   "metadata": {},
   "outputs": [
    {
     "name": "stdout",
     "output_type": "stream",
     "text": [
      "True\n",
      "2.98 ms ± 131 µs per loop (mean ± std. dev. of 7 runs, 100 loops each)\n"
     ]
    }
   ],
   "source": [
    "# JAX approach 2 (vectorised 2)\n",
    "flm_jax_2 = s2f.transform.forward_sov_fft_vectorized_jax_2(\n",
    "    f, L, spin, sampling\n",
    ")\n",
    "# compare to alternative computation of flm: flm_sov_fft_vec_jax_turok\n",
    "print(np.allclose(flm_jax_2, \n",
    "                  flm_sov_fft_vec_jax_turok, #w/o padding: flm_sov_fft_vec_jax_turok[spin:L, :], \n",
    "                  atol=1e-14))\n",
    "\n",
    "%timeit s2f.transform.forward_sov_fft_vectorized_jax_2(f, L, spin, sampling).block_until_ready()"
   ]
  },
  {
   "cell_type": "code",
   "execution_count": 8,
   "metadata": {},
   "outputs": [
    {
     "name": "stdout",
     "output_type": "stream",
     "text": [
      "True\n",
      "<class 'jaxlib.xla_extension.DeviceArray'>\n",
      "3.5 ms ± 70.5 µs per loop (mean ± std. dev. of 7 runs, 100 loops each)\n"
     ]
    }
   ],
   "source": [
    "# JAX approach 3 (stacked)\n",
    "flm_jax_3 = s2f.transform.forward_sov_fft_vectorized_jax_3(\n",
    "    f, L, spin, sampling\n",
    ")\n",
    "# compare to alternative computation of flm: flm_sov_fft_vec_jax_turok\n",
    "print(np.allclose(flm_jax_3, \n",
    "                  flm_sov_fft_vec_jax_turok, #w/o padding: flm_sov_fft_vec_jax_turok[spin:L, :], \n",
    "                  atol=1e-14))\n",
    "\n",
    "print(type(flm_jax_3))\n",
    "%timeit s2f.transform.forward_sov_fft_vectorized_jax_3(f, L, spin, sampling).block_until_ready()"
   ]
  },
  {
   "cell_type": "code",
   "execution_count": null,
   "metadata": {},
   "outputs": [],
   "source": []
  }
 ],
 "metadata": {
  "kernelspec": {
   "display_name": "Python 3.9.13 ('jax-astro2')",
   "language": "python",
   "name": "python3"
  },
  "language_info": {
   "codemirror_mode": {
    "name": "ipython",
    "version": 3
   },
   "file_extension": ".py",
   "mimetype": "text/x-python",
   "name": "python",
   "nbconvert_exporter": "python",
   "pygments_lexer": "ipython3",
   "version": "3.9.13"
  },
  "orig_nbformat": 4,
  "vscode": {
   "interpreter": {
    "hash": "19ead953c785f1bded8bcc3e77394fab45d20188e9271c3b12915874810ab57b"
   }
  }
 },
 "nbformat": 4,
 "nbformat_minor": 2
}
