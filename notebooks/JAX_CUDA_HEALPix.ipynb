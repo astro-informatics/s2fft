{
  "cells": [
    {
      "cell_type": "markdown",
      "metadata": {},
      "source": [
        "# __S2FFT CUDA Implementation__\n",
        "---\n",
        "\n",
        "[![colab image](https://colab.research.google.com/assets/colab-badge.svg)](https://colab.research.google.com/github/astro-informatics/s2fft/blob/main/notebooks/JAX_HEALPix_frontend.ipynb)"
      ]
    },
    {
      "cell_type": "code",
      "execution_count": null,
      "metadata": {},
      "outputs": [],
      "source": [
        "import sys\n",
        "IN_COLAB = 'google.colab' in sys.modules\n",
        "\n",
        "# Install s2fft and data if running on google colab.\n",
        "if IN_COLAB:\n",
        "    !pip install s2fft &> /dev/null"
      ]
    },
    {
      "cell_type": "code",
      "execution_count": 12,
      "metadata": {},
      "outputs": [],
      "source": [
        "!pip install healpy matplotlib seaborn &> /dev/null"
      ]
    },
    {
      "cell_type": "markdown",
      "metadata": {},
      "source": [
        "Short comparaison between the pure JAX implementation and the CUDA implementation of the S2FFT algorithm."
      ]
    },
    {
      "cell_type": "code",
      "execution_count": 1,
      "metadata": {},
      "outputs": [],
      "source": [
        "import jax\n",
        "from jax import numpy as jnp\n",
        "import argparse\n",
        "import time\n",
        "from time import perf_counter\n",
        "import matplotlib.pyplot as plt\n",
        "import seaborn as sns\n",
        "\n",
        "jax.config.update(\"jax_enable_x64\", True)\n",
        "\n",
        "from s2fft.utils.healpix_ffts import  healpix_fft_jax, healpix_ifft_jax, healpix_fft_cuda, healpix_ifft_cuda\n",
        "from s2fft.sampling.reindex import flm_2d_to_hp_fast, flm_hp_to_2d_fast\n",
        "import numpy as np\n",
        "import s2fft \n",
        "from s2fft import forward , inverse\n",
        "import healpy as hp\n",
        "import numpy as np\n"
      ]
    },
    {
      "cell_type": "markdown",
      "metadata": {},
      "source": [
        "### Initial Setup and Forward Transform Comparison\n",
        "\n",
        "This section sets up the HEALPix parameters and performs a forward spherical harmonic transform using `s2fft`'s JAX CUDA implementation, comparing the results with `healpy`."
      ]
    },
    {
      "cell_type": "code",
      "execution_count": 2,
      "metadata": {},
      "outputs": [
        {
          "name": "stdout",
          "output_type": "stream",
          "text": [
            "shape of j_alms: (48, 95)\n",
            "shape of healpix_order_alms: (1176,)\n",
            "MSE between j_alms and alms_healpy: (-3.690730140133011e-30+3.982002422466866e-31j)\n"
          ]
        }
      ],
      "source": [
        "# Set up\n",
        "nside = 16\n",
        "npix = hp.nside2npix(nside)\n",
        "map_random = jax.random.normal(jax.random.key(0) , shape=npix)\n",
        "\n",
        "# Compute alms (spherical harmonic coefficients)\n",
        "lmax = 3 * nside - 1\n",
        "L = lmax + 1  # So S2FFT covers ell=0 to lmax inclusive\n",
        "\n",
        "# healpy alms\n",
        "alms_healpy = hp.map2alm(np.array(map_random), lmax=lmax , iter=3)\n",
        "alm_healpy_2d = flm_hp_to_2d_fast(alms_healpy, L=L)\n",
        "\n",
        "j_alms = forward(map_random, nside=nside, L=L, sampling='healpix' , method='jax_cuda' , iter=3 )\n",
        "healpix_order_alms = flm_2d_to_hp_fast(j_alms, L=L)\n",
        "print(f\"shape of j_alms: {j_alms.shape}\")\n",
        "print(f\"shape of healpix_order_alms: {healpix_order_alms.shape}\")\n",
        "\n",
        "\n",
        "print(f\"MSE between j_alms and alms_healpy: {jnp.mean((healpix_order_alms - alms_healpy) ** 2)}\")"
      ]
    },
    {
      "cell_type": "markdown",
      "metadata": {},
      "source": [
        "### VMAP and JAX Transforms Test\n",
        "\n",
        "This cell demonstrates the use of `jax.vmap` with the forward transform and tests JAX's automatic differentiation capabilities (`jacfwd`, `jacrev`) with the CUDA implementation."
      ]
    },
    {
      "cell_type": "code",
      "execution_count": 3,
      "metadata": {},
      "outputs": [
        {
          "name": "stdout",
          "output_type": "stream",
          "text": [
            "Shape of maps: (4, 3072)\n"
          ]
        }
      ],
      "source": [
        "# Set up\n",
        "nside = 16\n",
        "npix = hp.nside2npix(nside)\n",
        "map_random = jax.random.normal(jax.random.key(0) , shape=npix)\n",
        "# Compute alms (spherical harmonic coefficients)\n",
        "lmax = 3 * nside - 1\n",
        "L = lmax + 1  # So S2FFT covers ell=0 to lmax inclusive\n",
        "\n",
        "maps = jnp.stack([map_random, map_random, map_random , map_random], axis=0)\n",
        "print(f\"Shape of maps: {maps.shape}\")\n",
        "\n",
        "def forward_maps(maps):\n",
        "    return forward(maps, nside=nside, L=L, sampling='healpix', method='jax_cuda').real\n",
        "\n",
        "alm_maps = jax.vmap(forward_maps)(maps)"
      ]
    },
    {
      "cell_type": "markdown",
      "metadata": {},
      "source": [
        "### Inverse Transform Comparison\n",
        "\n",
        "This cell performs an inverse spherical harmonic transform and compares the reconstructed map from `s2fft`'s JAX CUDA implementation with `healpy`'s reconstruction."
      ]
    },
    {
      "cell_type": "code",
      "execution_count": 4,
      "metadata": {},
      "outputs": [
        {
          "name": "stdout",
          "output_type": "stream",
          "text": [
            "MSE between reconstruction_healpy and reconstruction_jax: (1.8236620334440454e-27-8.008792862185043e-31j)\n"
          ]
        }
      ],
      "source": [
        "reconstruction_healpy = hp.alm2map(alms_healpy, nside=nside, lmax=lmax)\n",
        "reconstruction_jax = inverse(j_alms, nside=nside, L=L, sampling='healpix', method='jax_cuda')\n",
        "\n",
        "print(f\"MSE between reconstruction_healpy and reconstruction_jax: {jnp.mean((reconstruction_healpy - reconstruction_jax) ** 2)}\")"
      ]
    },
    {
      "cell_type": "markdown",
      "metadata": {},
      "source": [
        "### Performance Benchmarking Functions\n",
        "\n",
        "This section defines helper functions to benchmark the forward and backward spherical harmonic transforms across different `nside` values, comparing `s2fft`'s JAX CUDA, pure JAX, and `healpy` implementations."
      ]
    },
    {
      "cell_type": "code",
      "execution_count": 17,
      "metadata": {},
      "outputs": [],
      "source": [
        "sampling = \"healpix\"\n",
        "n_iter = 3  # Number of iterations for the forward and inverse transforms\n",
        "\n",
        "def mse(x, y):\n",
        "    return jnp.mean(jnp.abs(x - y)**2)\n",
        "\n",
        "\n",
        "def run_fwd_test(nside):\n",
        "    L = 2 * nside \n",
        "\n",
        "    total_pixels = 12 * nside**2\n",
        "    arr = jax.random.normal(jax.random.PRNGKey(0), (total_pixels, ))\n",
        "\n",
        "    method = \"jax_cuda\"\n",
        "    start = time.perf_counter()\n",
        "    cuda_res = forward(arr, L, nside=nside,sampling=sampling, method=method, iter=n_iter ).block_until_ready()\n",
        "    end = time.perf_counter()\n",
        "    cuda_jit_time = end - start\n",
        "\n",
        "    start = time.perf_counter()\n",
        "    cuda_res = forward(arr, L, nside=nside,sampling=sampling, method=method, iter=n_iter ).block_until_ready()\n",
        "    end = time.perf_counter()\n",
        "    cuda_run_time = end - start\n",
        "\n",
        "    method = \"jax\"\n",
        "    start = time.perf_counter()\n",
        "    jax_res = forward(arr, L, nside=nside,sampling=sampling, method=method, iter=n_iter ).block_until_ready()\n",
        "    end = time.perf_counter()\n",
        "    jax_jit_time = end - start\n",
        "\n",
        "    start = time.perf_counter()\n",
        "    jax_res = forward(arr, L, nside=nside,sampling=sampling, method=method, iter=n_iter ).block_until_ready()\n",
        "    end = time.perf_counter()\n",
        "    jax_run_time = end - start\n",
        "\n",
        "    method = \"jax_healpy\"\n",
        "    arr += 0j\n",
        "    arr = jax.device_put(arr, jax.devices(\"cpu\")[0])\n",
        "    start = time.perf_counter()\n",
        "    flm = s2fft.forward(arr, L, nside=nside, sampling=sampling, method=method, iter=n_iter ).block_until_ready()\n",
        "    end = time.perf_counter()\n",
        "    healpy_jit_time = end - start\n",
        "\n",
        "    start = time.perf_counter()\n",
        "    flm = s2fft.forward(arr, L, nside=nside, sampling=sampling, method=method, iter=n_iter ).block_until_ready()\n",
        "    end = perf_counter()\n",
        "    healpy_run_time = end - start\n",
        "\n",
        "    print(f\"For nside {nside}\")\n",
        "    print(f\" -> FWD\")\n",
        "    print(f\" -> -> cuda_jit_time: {cuda_jit_time:.4f}, cuda_run_time: {cuda_run_time:.4f} mse against hp {mse(cuda_res, flm)}\")\n",
        "    print(f\" -> -> jax_jit_time: {jax_jit_time:.4f}, jax_run_time: {jax_run_time:.4f} mse against hp {mse(cuda_res, flm)}\")\n",
        "    print(f\" -> -> healpy_jit_time: {healpy_jit_time:.4f}, healpy_run_time: {healpy_run_time:.4f}\")\n",
        "\n",
        "    return cuda_jit_time , cuda_run_time, jax_jit_time, jax_run_time , healpy_jit_time, healpy_run_time\n",
        "\n",
        "\n",
        "def run_bwd_test(nside):\n",
        "    \n",
        "    sampling = \"healpix\"\n",
        "    L = 2 * nside\n",
        "    total_pixels = 12 * nside**2\n",
        "    arr = jax.random.normal(jax.random.PRNGKey(0), (total_pixels, )) + 0j\n",
        "    alm = forward(arr, L, nside=nside, sampling=sampling, method=\"jax_healpy\")\n",
        "    \n",
        "    method = \"jax\"\n",
        "    start = time.perf_counter()\n",
        "    jax_res = inverse(alm, L, nside=nside,sampling=sampling, method=method).block_until_ready()\n",
        "    end = time.perf_counter()\n",
        "    jax_jit_time = end - start\n",
        "    start = time.perf_counter()\n",
        "    jax_res = inverse(alm, L, nside=nside,sampling=sampling, method=method ).block_until_ready()\n",
        "    end = time.perf_counter()\n",
        "    jax_run_time = end - start\n",
        "    \n",
        "    method = \"jax_cuda\"\n",
        "    start = time.perf_counter()\n",
        "    cuda_res = inverse(alm, L, nside=nside,sampling=sampling, method=method ).block_until_ready()\n",
        "    end = time.perf_counter()\n",
        "    cuda_jit_time = end - start\n",
        "    start = time.perf_counter()\n",
        "    cuda_res = inverse(alm, L, nside=nside,sampling=sampling, method=method ).block_until_ready()\n",
        "    end = time.perf_counter()\n",
        "    cuda_run_time = end - start\n",
        "\n",
        "\n",
        "    method = \"jax_healpy\"\n",
        "    sampling = \"healpix\"\n",
        "\n",
        "    alm = jax.device_put(alm, jax.devices(\"cpu\")[0])\n",
        "    start = time.perf_counter()\n",
        "    f = inverse(alm, L, nside=nside, sampling=sampling, method=method).block_until_ready()\n",
        "    end = time.perf_counter()\n",
        "    healpy_jit_time = end - start\n",
        "\n",
        "    start = time.perf_counter()\n",
        "    f = inverse(alm, L, nside=nside, sampling=sampling, method=method ).block_until_ready()\n",
        "    end = time.perf_counter()\n",
        "    healpy_run_time = end - start\n",
        "\n",
        "    print(f\"For nside {nside}\")\n",
        "    print(f\" -> BWD\")\n",
        "    print(f\" -> -> cuda_jit_time: {cuda_jit_time:.4f}, cuda_run_time: {cuda_run_time:.4f} mse against hp {mse(cuda_res, f)}\")\n",
        "    print(f\" -> -> jax_jit_time: {jax_jit_time:.4f}, jax_run_time: {jax_run_time:.4f} mse against hp {mse(jax_res, f)}\")\n",
        "    print(f\" -> -> healpy_jit_time: {healpy_jit_time:.4f}, healpy_run_time: {healpy_run_time:.4f} \")\n",
        "\n",
        "    return cuda_jit_time , cuda_run_time, jax_jit_time, jax_run_time , healpy_jit_time, healpy_run_time"
      ]
    },
    {
      "cell_type": "markdown",
      "metadata": {},
      "source": [
        "### Clear JAX Caches\n",
        "\n",
        "Clears JAX's internal caches to ensure fresh compilation for benchmarking."
      ]
    },
    {
      "cell_type": "code",
      "execution_count": 18,
      "metadata": {},
      "outputs": [],
      "source": [
        "jax.clear_caches()"
      ]
    },
    {
      "cell_type": "markdown",
      "metadata": {},
      "source": [
        "### Run Benchmarking\n",
        "\n",
        "Executes the benchmarking functions for various `nside` values to collect performance data."
      ]
    },
    {
      "cell_type": "code",
      "execution_count": null,
      "metadata": {},
      "outputs": [
        {
          "name": "stdout",
          "output_type": "stream",
          "text": [
            "For nside 128\n",
            " -> FWD\n",
            " -> -> cuda_jit_time: 4.4200, cuda_run_time: 0.6231 mse against hp 2.3766630166715178e-29\n",
            " -> -> jax_jit_time: 38.6306, jax_run_time: 0.6253 mse against hp 2.3766630166715178e-29\n",
            " -> -> healpy_jit_time: 0.8766, healpy_run_time: 0.4540\n",
            "For nside 128\n",
            " -> BWD\n",
            " -> -> cuda_jit_time: 1.3143, cuda_run_time: 0.0907 mse against hp 2.5339123457221976e-25\n",
            " -> -> jax_jit_time: 15.6730, jax_run_time: 0.1263 mse against hp 2.5339096506006936e-25\n",
            " -> -> healpy_jit_time: 0.0512, healpy_run_time: 0.0041 \n",
            "For nside 256\n",
            " -> FWD\n",
            " -> -> cuda_jit_time: 8.7759, cuda_run_time: 4.6370 mse against hp 4.332503429570958e-10\n",
            " -> -> jax_jit_time: 88.8303, jax_run_time: 4.6417 mse against hp 4.332503429570958e-10\n",
            " -> -> healpy_jit_time: 2.5950, healpy_run_time: 1.7487\n"
          ]
        },
        {
          "ename": "KeyboardInterrupt",
          "evalue": "",
          "output_type": "error",
          "traceback": [
            "\u001b[31m---------------------------------------------------------------------------\u001b[39m",
            "\u001b[31mXlaRuntimeError\u001b[39m                           Traceback (most recent call last)",
            "\u001b[36mFile \u001b[39m\u001b[32m~/micromamba/envs/s2fft/lib/python3.11/site-packages/jax/_src/interpreters/pxla.py:2795\u001b[39m, in \u001b[36m_cached_compilation\u001b[39m\u001b[34m(computation, name, mesh, spmd_lowering, tuple_args, auto_spmd_lowering, allow_prop_to_inputs, allow_prop_to_outputs, host_callbacks, backend, da, pmap_nreps, compiler_options_kvs, pgle_profiler)\u001b[39m\n\u001b[32m   2792\u001b[39m \u001b[38;5;28;01mwith\u001b[39;00m dispatch.log_elapsed_time(\n\u001b[32m   2793\u001b[39m     \u001b[33m\"\u001b[39m\u001b[33mFinished XLA compilation of \u001b[39m\u001b[38;5;132;01m{fun_name}\u001b[39;00m\u001b[33m in \u001b[39m\u001b[38;5;132;01m{elapsed_time:.9f}\u001b[39;00m\u001b[33m sec\u001b[39m\u001b[33m\"\u001b[39m,\n\u001b[32m   2794\u001b[39m     fun_name=name, event=dispatch.BACKEND_COMPILE_EVENT):\n\u001b[32m-> \u001b[39m\u001b[32m2795\u001b[39m   xla_executable = \u001b[43mcompiler\u001b[49m\u001b[43m.\u001b[49m\u001b[43mcompile_or_get_cached\u001b[49m\u001b[43m(\u001b[49m\n\u001b[32m   2796\u001b[39m \u001b[43m      \u001b[49m\u001b[43mbackend\u001b[49m\u001b[43m,\u001b[49m\u001b[43m \u001b[49m\u001b[43mcomputation\u001b[49m\u001b[43m,\u001b[49m\u001b[43m \u001b[49m\u001b[43mdev\u001b[49m\u001b[43m,\u001b[49m\u001b[43m \u001b[49m\u001b[43mcompile_options\u001b[49m\u001b[43m,\u001b[49m\u001b[43m \u001b[49m\u001b[43mhost_callbacks\u001b[49m\u001b[43m,\u001b[49m\n\u001b[32m   2797\u001b[39m \u001b[43m      \u001b[49m\u001b[43mpgle_profiler\u001b[49m\u001b[43m)\u001b[49m\n\u001b[32m   2798\u001b[39m \u001b[38;5;28;01mreturn\u001b[39;00m xla_executable\n",
            "\u001b[36mFile \u001b[39m\u001b[32m~/micromamba/envs/s2fft/lib/python3.11/site-packages/jax/_src/compiler.py:432\u001b[39m, in \u001b[36mcompile_or_get_cached\u001b[39m\u001b[34m(backend, computation, devices, compile_options, host_callbacks, pgle_profiler)\u001b[39m\n\u001b[32m    431\u001b[39m log_persistent_cache_miss(module_name, cache_key)\n\u001b[32m--> \u001b[39m\u001b[32m432\u001b[39m \u001b[38;5;28;01mreturn\u001b[39;00m \u001b[43m_compile_and_write_cache\u001b[49m\u001b[43m(\u001b[49m\n\u001b[32m    433\u001b[39m \u001b[43m    \u001b[49m\u001b[43mbackend\u001b[49m\u001b[43m,\u001b[49m\n\u001b[32m    434\u001b[39m \u001b[43m    \u001b[49m\u001b[43mcomputation\u001b[49m\u001b[43m,\u001b[49m\n\u001b[32m    435\u001b[39m \u001b[43m    \u001b[49m\u001b[43mcompile_options\u001b[49m\u001b[43m,\u001b[49m\n\u001b[32m    436\u001b[39m \u001b[43m    \u001b[49m\u001b[43mhost_callbacks\u001b[49m\u001b[43m,\u001b[49m\n\u001b[32m    437\u001b[39m \u001b[43m    \u001b[49m\u001b[43mmodule_name\u001b[49m\u001b[43m,\u001b[49m\n\u001b[32m    438\u001b[39m \u001b[43m    \u001b[49m\u001b[43mcache_key\u001b[49m\u001b[43m,\u001b[49m\n\u001b[32m    439\u001b[39m \u001b[43m\u001b[49m\u001b[43m)\u001b[49m\n",
            "\u001b[36mFile \u001b[39m\u001b[32m~/micromamba/envs/s2fft/lib/python3.11/site-packages/jax/_src/compiler.py:694\u001b[39m, in \u001b[36m_compile_and_write_cache\u001b[39m\u001b[34m(backend, computation, compile_options, host_callbacks, module_name, cache_key)\u001b[39m\n\u001b[32m    693\u001b[39m start_time = time.monotonic()\n\u001b[32m--> \u001b[39m\u001b[32m694\u001b[39m executable = \u001b[43mbackend_compile\u001b[49m\u001b[43m(\u001b[49m\n\u001b[32m    695\u001b[39m \u001b[43m    \u001b[49m\u001b[43mbackend\u001b[49m\u001b[43m,\u001b[49m\u001b[43m \u001b[49m\u001b[43mcomputation\u001b[49m\u001b[43m,\u001b[49m\u001b[43m \u001b[49m\u001b[43mcompile_options\u001b[49m\u001b[43m,\u001b[49m\u001b[43m \u001b[49m\u001b[43mhost_callbacks\u001b[49m\n\u001b[32m    696\u001b[39m \u001b[43m\u001b[49m\u001b[43m)\u001b[49m\n\u001b[32m    697\u001b[39m compile_time = time.monotonic() - start_time\n",
            "\u001b[36mFile \u001b[39m\u001b[32m~/micromamba/envs/s2fft/lib/python3.11/site-packages/jax/_src/profiler.py:334\u001b[39m, in \u001b[36mannotate_function.<locals>.wrapper\u001b[39m\u001b[34m(*args, **kwargs)\u001b[39m\n\u001b[32m    333\u001b[39m \u001b[38;5;28;01mwith\u001b[39;00m TraceAnnotation(name, **decorator_kwargs):\n\u001b[32m--> \u001b[39m\u001b[32m334\u001b[39m   \u001b[38;5;28;01mreturn\u001b[39;00m \u001b[43mfunc\u001b[49m\u001b[43m(\u001b[49m\u001b[43m*\u001b[49m\u001b[43margs\u001b[49m\u001b[43m,\u001b[49m\u001b[43m \u001b[49m\u001b[43m*\u001b[49m\u001b[43m*\u001b[49m\u001b[43mkwargs\u001b[49m\u001b[43m)\u001b[49m\n",
            "\u001b[36mFile \u001b[39m\u001b[32m~/micromamba/envs/s2fft/lib/python3.11/site-packages/jax/_src/compiler.py:330\u001b[39m, in \u001b[36mbackend_compile\u001b[39m\u001b[34m(backend, module, options, host_callbacks)\u001b[39m\n\u001b[32m    329\u001b[39m     \u001b[38;5;28;01mraise\u001b[39;00m handler_result \u001b[38;5;28;01mfrom\u001b[39;00m\u001b[38;5;250m \u001b[39m\u001b[34;01me\u001b[39;00m\n\u001b[32m--> \u001b[39m\u001b[32m330\u001b[39m \u001b[38;5;28;01mraise\u001b[39;00m e\n",
            "\u001b[36mFile \u001b[39m\u001b[32m~/micromamba/envs/s2fft/lib/python3.11/site-packages/jax/_src/compiler.py:324\u001b[39m, in \u001b[36mbackend_compile\u001b[39m\u001b[34m(backend, module, options, host_callbacks)\u001b[39m\n\u001b[32m    321\u001b[39m   \u001b[38;5;66;03m# Some backends don't have `host_callbacks` option yet\u001b[39;00m\n\u001b[32m    322\u001b[39m   \u001b[38;5;66;03m# TODO(sharadmv): remove this fallback when all backends allow `compile`\u001b[39;00m\n\u001b[32m    323\u001b[39m   \u001b[38;5;66;03m# to take in `host_callbacks`\u001b[39;00m\n\u001b[32m--> \u001b[39m\u001b[32m324\u001b[39m   \u001b[38;5;28;01mreturn\u001b[39;00m \u001b[43mbackend\u001b[49m\u001b[43m.\u001b[49m\u001b[43mcompile\u001b[49m\u001b[43m(\u001b[49m\u001b[43mbuilt_c\u001b[49m\u001b[43m,\u001b[49m\u001b[43m \u001b[49m\u001b[43mcompile_options\u001b[49m\u001b[43m=\u001b[49m\u001b[43moptions\u001b[49m\u001b[43m)\u001b[49m\n\u001b[32m    325\u001b[39m \u001b[38;5;28;01mexcept\u001b[39;00m xc.XlaRuntimeError \u001b[38;5;28;01mas\u001b[39;00m e:\n",
            "\u001b[31mXlaRuntimeError\u001b[39m: INTERNAL: ptxas exited with non-zero error code 2, output: ",
            "\nDuring handling of the above exception, another exception occurred:\n",
            "\u001b[31mKeyboardInterrupt\u001b[39m                         Traceback (most recent call last)",
            "\u001b[36mCell\u001b[39m\u001b[36m \u001b[39m\u001b[32mIn[19]\u001b[39m\u001b[32m, line 6\u001b[39m\n\u001b[32m      4\u001b[39m \u001b[38;5;28;01mfor\u001b[39;00m nside \u001b[38;5;129;01min\u001b[39;00m nsides:\n\u001b[32m      5\u001b[39m     fwd_times.append(run_fwd_test(nside))\n\u001b[32m----> \u001b[39m\u001b[32m6\u001b[39m     bwd_times.append(\u001b[43mrun_bwd_test\u001b[49m\u001b[43m(\u001b[49m\u001b[43mnside\u001b[49m\u001b[43m)\u001b[49m)\n",
            "\u001b[36mCell\u001b[39m\u001b[36m \u001b[39m\u001b[32mIn[17]\u001b[39m\u001b[32m, line 68\u001b[39m, in \u001b[36mrun_bwd_test\u001b[39m\u001b[34m(nside)\u001b[39m\n\u001b[32m     66\u001b[39m method = \u001b[33m\"\u001b[39m\u001b[33mjax\u001b[39m\u001b[33m\"\u001b[39m\n\u001b[32m     67\u001b[39m start = time.perf_counter()\n\u001b[32m---> \u001b[39m\u001b[32m68\u001b[39m jax_res = \u001b[43minverse\u001b[49m\u001b[43m(\u001b[49m\u001b[43malm\u001b[49m\u001b[43m,\u001b[49m\u001b[43m \u001b[49m\u001b[43mL\u001b[49m\u001b[43m,\u001b[49m\u001b[43m \u001b[49m\u001b[43mnside\u001b[49m\u001b[43m=\u001b[49m\u001b[43mnside\u001b[49m\u001b[43m,\u001b[49m\u001b[43msampling\u001b[49m\u001b[43m=\u001b[49m\u001b[43msampling\u001b[49m\u001b[43m,\u001b[49m\u001b[43m \u001b[49m\u001b[43mmethod\u001b[49m\u001b[43m=\u001b[49m\u001b[43mmethod\u001b[49m\u001b[43m)\u001b[49m.block_until_ready()\n\u001b[32m     69\u001b[39m end = time.perf_counter()\n\u001b[32m     70\u001b[39m jax_jit_time = end - start\n",
            "\u001b[36mFile \u001b[39m\u001b[32m~/Projects/CMB/s2fft/s2fft/transforms/spherical.py:110\u001b[39m, in \u001b[36minverse\u001b[39m\u001b[34m(flm, L, spin, nside, sampling, method, reality, precomps, spmd, L_lower, _ssht_backend)\u001b[39m\n\u001b[32m    107\u001b[39m \u001b[38;5;28;01melse\u001b[39;00m:\n\u001b[32m    108\u001b[39m     inverse_kwargs[\u001b[33m\"\u001b[39m\u001b[33mnside\u001b[39m\u001b[33m\"\u001b[39m] = nside\n\u001b[32m--> \u001b[39m\u001b[32m110\u001b[39m \u001b[38;5;28;01mreturn\u001b[39;00m \u001b[43m_inverse_functions\u001b[49m\u001b[43m[\u001b[49m\u001b[43mmethod\u001b[49m\u001b[43m]\u001b[49m\u001b[43m(\u001b[49m\u001b[43m*\u001b[49m\u001b[43m*\u001b[49m\u001b[43minverse_kwargs\u001b[49m\u001b[43m)\u001b[49m\n",
            "    \u001b[31m[... skipping hidden 1 frame]\u001b[39m\n",
            "\u001b[36mFile \u001b[39m\u001b[32m~/micromamba/envs/s2fft/lib/python3.11/site-packages/jax/_src/pjit.py:340\u001b[39m, in \u001b[36m_cpp_pjit.<locals>.cache_miss\u001b[39m\u001b[34m(*args, **kwargs)\u001b[39m\n\u001b[32m    335\u001b[39m \u001b[38;5;28;01mif\u001b[39;00m config.no_tracing.value:\n\u001b[32m    336\u001b[39m   \u001b[38;5;28;01mraise\u001b[39;00m \u001b[38;5;167;01mRuntimeError\u001b[39;00m(\u001b[33mf\u001b[39m\u001b[33m\"\u001b[39m\u001b[33mre-tracing function \u001b[39m\u001b[38;5;132;01m{\u001b[39;00mjit_info.fun_sourceinfo\u001b[38;5;132;01m}\u001b[39;00m\u001b[33m for \u001b[39m\u001b[33m\"\u001b[39m\n\u001b[32m    337\u001b[39m                      \u001b[33m\"\u001b[39m\u001b[33m`jit`, but \u001b[39m\u001b[33m'\u001b[39m\u001b[33mno_tracing\u001b[39m\u001b[33m'\u001b[39m\u001b[33m is set\u001b[39m\u001b[33m\"\u001b[39m)\n\u001b[32m    339\u001b[39m (outs, out_flat, out_tree, args_flat, jaxpr, attrs_tracked, executable,\n\u001b[32m--> \u001b[39m\u001b[32m340\u001b[39m  pgle_profiler) = \u001b[43m_python_pjit_helper\u001b[49m\u001b[43m(\u001b[49m\u001b[43mfun\u001b[49m\u001b[43m,\u001b[49m\u001b[43m \u001b[49m\u001b[43mjit_info\u001b[49m\u001b[43m,\u001b[49m\u001b[43m \u001b[49m\u001b[43m*\u001b[49m\u001b[43margs\u001b[49m\u001b[43m,\u001b[49m\u001b[43m \u001b[49m\u001b[43m*\u001b[49m\u001b[43m*\u001b[49m\u001b[43mkwargs\u001b[49m\u001b[43m)\u001b[49m\n\u001b[32m    342\u001b[39m maybe_fastpath_data = _get_fastpath_data(\n\u001b[32m    343\u001b[39m     executable, out_tree, args_flat, out_flat, attrs_tracked, jaxpr.effects,\n\u001b[32m    344\u001b[39m     jaxpr.consts, jit_info.abstracted_axes,\n\u001b[32m    345\u001b[39m     pgle_profiler)\n\u001b[32m    347\u001b[39m \u001b[38;5;28;01mreturn\u001b[39;00m outs, maybe_fastpath_data, _need_to_rebuild_with_fdo(pgle_profiler)\n",
            "\u001b[36mFile \u001b[39m\u001b[32m~/micromamba/envs/s2fft/lib/python3.11/site-packages/jax/_src/pjit.py:191\u001b[39m, in \u001b[36m_python_pjit_helper\u001b[39m\u001b[34m(fun, jit_info, *args, **kwargs)\u001b[39m\n\u001b[32m    189\u001b[39m   args_flat = \u001b[38;5;28mmap\u001b[39m(core.full_lower, args_flat)\n\u001b[32m    190\u001b[39m   core.check_eval_args(args_flat)\n\u001b[32m--> \u001b[39m\u001b[32m191\u001b[39m   out_flat, compiled, profiler = \u001b[43m_pjit_call_impl_python\u001b[49m\u001b[43m(\u001b[49m\u001b[43m*\u001b[49m\u001b[43margs_flat\u001b[49m\u001b[43m,\u001b[49m\u001b[43m \u001b[49m\u001b[43m*\u001b[49m\u001b[43m*\u001b[49m\u001b[43mp\u001b[49m\u001b[43m.\u001b[49m\u001b[43mparams\u001b[49m\u001b[43m)\u001b[49m\n\u001b[32m    192\u001b[39m \u001b[38;5;28;01melse\u001b[39;00m:\n\u001b[32m    193\u001b[39m   out_flat = pjit_p.bind(*args_flat, **p.params)\n",
            "\u001b[36mFile \u001b[39m\u001b[32m~/micromamba/envs/s2fft/lib/python3.11/site-packages/jax/_src/pjit.py:1809\u001b[39m, in \u001b[36m_pjit_call_impl_python\u001b[39m\u001b[34m(jaxpr, in_shardings, out_shardings, in_layouts, out_layouts, donated_invars, ctx_mesh, name, keep_unused, inline, compiler_options_kvs, *args)\u001b[39m\n\u001b[32m   1797\u001b[39m compiler_options_kvs = compiler_options_kvs + \u001b[38;5;28mtuple\u001b[39m(pgle_compile_options.items())\n\u001b[32m   1798\u001b[39m \u001b[38;5;66;03m# Passing mutable PGLE profile here since it should be extracted by JAXPR to\u001b[39;00m\n\u001b[32m   1799\u001b[39m \u001b[38;5;66;03m# initialize the fdo_profile compile option.\u001b[39;00m\n\u001b[32m   1800\u001b[39m compiled = \u001b[43m_resolve_and_lower\u001b[49m\u001b[43m(\u001b[49m\n\u001b[32m   1801\u001b[39m \u001b[43m    \u001b[49m\u001b[43margs\u001b[49m\u001b[43m,\u001b[49m\u001b[43m \u001b[49m\u001b[43mjaxpr\u001b[49m\u001b[43m=\u001b[49m\u001b[43mjaxpr\u001b[49m\u001b[43m,\u001b[49m\u001b[43m \u001b[49m\u001b[43min_shardings\u001b[49m\u001b[43m=\u001b[49m\u001b[43min_shardings\u001b[49m\u001b[43m,\u001b[49m\n\u001b[32m   1802\u001b[39m \u001b[43m    \u001b[49m\u001b[43mout_shardings\u001b[49m\u001b[43m=\u001b[49m\u001b[43mout_shardings\u001b[49m\u001b[43m,\u001b[49m\u001b[43m \u001b[49m\u001b[43min_layouts\u001b[49m\u001b[43m=\u001b[49m\u001b[43min_layouts\u001b[49m\u001b[43m,\u001b[49m\n\u001b[32m   1803\u001b[39m \u001b[43m    \u001b[49m\u001b[43mout_layouts\u001b[49m\u001b[43m=\u001b[49m\u001b[43mout_layouts\u001b[49m\u001b[43m,\u001b[49m\u001b[43m \u001b[49m\u001b[43mdonated_invars\u001b[49m\u001b[43m=\u001b[49m\u001b[43mdonated_invars\u001b[49m\u001b[43m,\u001b[49m\n\u001b[32m   1804\u001b[39m \u001b[43m    \u001b[49m\u001b[43mctx_mesh\u001b[49m\u001b[43m=\u001b[49m\u001b[43mctx_mesh\u001b[49m\u001b[43m,\u001b[49m\u001b[43m \u001b[49m\u001b[43mname\u001b[49m\u001b[43m=\u001b[49m\u001b[43mname\u001b[49m\u001b[43m,\u001b[49m\u001b[43m \u001b[49m\u001b[43mkeep_unused\u001b[49m\u001b[43m=\u001b[49m\u001b[43mkeep_unused\u001b[49m\u001b[43m,\u001b[49m\n\u001b[32m   1805\u001b[39m \u001b[43m    \u001b[49m\u001b[43minline\u001b[49m\u001b[43m=\u001b[49m\u001b[43minline\u001b[49m\u001b[43m,\u001b[49m\u001b[43m \u001b[49m\u001b[43mlowering_platforms\u001b[49m\u001b[43m=\u001b[49m\u001b[38;5;28;43;01mNone\u001b[39;49;00m\u001b[43m,\u001b[49m\n\u001b[32m   1806\u001b[39m \u001b[43m    \u001b[49m\u001b[43mlowering_parameters\u001b[49m\u001b[43m=\u001b[49m\u001b[43mmlir\u001b[49m\u001b[43m.\u001b[49m\u001b[43mLoweringParameters\u001b[49m\u001b[43m(\u001b[49m\u001b[43m)\u001b[49m\u001b[43m,\u001b[49m\n\u001b[32m   1807\u001b[39m \u001b[43m    \u001b[49m\u001b[43mpgle_profiler\u001b[49m\u001b[43m=\u001b[49m\u001b[43mpgle_profiler\u001b[49m\u001b[43m,\u001b[49m\n\u001b[32m   1808\u001b[39m \u001b[43m    \u001b[49m\u001b[43mcompiler_options_kvs\u001b[49m\u001b[43m=\u001b[49m\u001b[43mcompiler_options_kvs\u001b[49m\u001b[43m,\u001b[49m\n\u001b[32m-> \u001b[39m\u001b[32m1809\u001b[39m \u001b[43m\u001b[49m\u001b[43m)\u001b[49m\u001b[43m.\u001b[49m\u001b[43mcompile\u001b[49m\u001b[43m(\u001b[49m\u001b[43m)\u001b[49m\n\u001b[32m   1811\u001b[39m \u001b[38;5;66;03m# This check is expensive so only do it if enable_checks is on.\u001b[39;00m\n\u001b[32m   1812\u001b[39m \u001b[38;5;28;01mif\u001b[39;00m compiled._auto_spmd_lowering \u001b[38;5;129;01mand\u001b[39;00m config.enable_checks.value:\n",
            "\u001b[36mFile \u001b[39m\u001b[32m~/micromamba/envs/s2fft/lib/python3.11/site-packages/jax/_src/interpreters/pxla.py:2462\u001b[39m, in \u001b[36mMeshComputation.compile\u001b[39m\u001b[34m(self, compiler_options)\u001b[39m\n\u001b[32m   2460\u001b[39m compiler_options_kvs = \u001b[38;5;28mself\u001b[39m._compiler_options_kvs + t_compiler_options\n\u001b[32m   2461\u001b[39m \u001b[38;5;28;01mif\u001b[39;00m \u001b[38;5;28mself\u001b[39m._executable \u001b[38;5;129;01mis\u001b[39;00m \u001b[38;5;28;01mNone\u001b[39;00m \u001b[38;5;129;01mor\u001b[39;00m compiler_options_kvs:\n\u001b[32m-> \u001b[39m\u001b[32m2462\u001b[39m   executable = \u001b[43mUnloadedMeshExecutable\u001b[49m\u001b[43m.\u001b[49m\u001b[43mfrom_hlo\u001b[49m\u001b[43m(\u001b[49m\n\u001b[32m   2463\u001b[39m \u001b[43m      \u001b[49m\u001b[38;5;28;43mself\u001b[39;49m\u001b[43m.\u001b[49m\u001b[43m_name\u001b[49m\u001b[43m,\u001b[49m\u001b[43m \u001b[49m\u001b[38;5;28;43mself\u001b[39;49m\u001b[43m.\u001b[49m\u001b[43m_hlo\u001b[49m\u001b[43m,\u001b[49m\u001b[43m \u001b[49m\u001b[43m*\u001b[49m\u001b[43m*\u001b[49m\u001b[38;5;28;43mself\u001b[39;49m\u001b[43m.\u001b[49m\u001b[43mcompile_args\u001b[49m\u001b[43m,\u001b[49m\n\u001b[32m   2464\u001b[39m \u001b[43m      \u001b[49m\u001b[43mcompiler_options_kvs\u001b[49m\u001b[43m=\u001b[49m\u001b[43mcompiler_options_kvs\u001b[49m\u001b[43m)\u001b[49m\n\u001b[32m   2465\u001b[39m   \u001b[38;5;28;01mif\u001b[39;00m \u001b[38;5;129;01mnot\u001b[39;00m compiler_options_kvs:\n\u001b[32m   2466\u001b[39m     \u001b[38;5;28mself\u001b[39m._executable = executable\n",
            "\u001b[36mFile \u001b[39m\u001b[32m~/micromamba/envs/s2fft/lib/python3.11/site-packages/jax/_src/interpreters/pxla.py:3004\u001b[39m, in \u001b[36mUnloadedMeshExecutable.from_hlo\u001b[39m\u001b[34m(***failed resolving arguments***)\u001b[39m\n\u001b[32m   3001\u001b[39m       \u001b[38;5;28;01mbreak\u001b[39;00m\n\u001b[32m   3003\u001b[39m util.test_event(\u001b[33m\"\u001b[39m\u001b[33mpxla_cached_compilation\u001b[39m\u001b[33m\"\u001b[39m)\n\u001b[32m-> \u001b[39m\u001b[32m3004\u001b[39m xla_executable = \u001b[43m_cached_compilation\u001b[49m\u001b[43m(\u001b[49m\n\u001b[32m   3005\u001b[39m \u001b[43m    \u001b[49m\u001b[43mhlo\u001b[49m\u001b[43m,\u001b[49m\u001b[43m \u001b[49m\u001b[43mname\u001b[49m\u001b[43m,\u001b[49m\u001b[43m \u001b[49m\u001b[43mmesh\u001b[49m\u001b[43m,\u001b[49m\u001b[43m \u001b[49m\u001b[43mspmd_lowering\u001b[49m\u001b[43m,\u001b[49m\n\u001b[32m   3006\u001b[39m \u001b[43m    \u001b[49m\u001b[43mtuple_args\u001b[49m\u001b[43m,\u001b[49m\u001b[43m \u001b[49m\u001b[43mauto_spmd_lowering\u001b[49m\u001b[43m,\u001b[49m\u001b[43m \u001b[49m\u001b[43mallow_prop_to_inputs\u001b[49m\u001b[43m,\u001b[49m\n\u001b[32m   3007\u001b[39m \u001b[43m    \u001b[49m\u001b[43mallow_prop_to_outputs\u001b[49m\u001b[43m,\u001b[49m\u001b[43m \u001b[49m\u001b[38;5;28;43mtuple\u001b[39;49m\u001b[43m(\u001b[49m\u001b[43mhost_callbacks\u001b[49m\u001b[43m)\u001b[49m\u001b[43m,\u001b[49m\u001b[43m \u001b[49m\u001b[43mbackend\u001b[49m\u001b[43m,\u001b[49m\u001b[43m \u001b[49m\u001b[43mda\u001b[49m\u001b[43m,\u001b[49m\u001b[43m \u001b[49m\u001b[43mpmap_nreps\u001b[49m\u001b[43m,\u001b[49m\n\u001b[32m   3008\u001b[39m \u001b[43m    \u001b[49m\u001b[43mcompiler_options_kvs\u001b[49m\u001b[43m,\u001b[49m\u001b[43m \u001b[49m\u001b[43mpgle_profiler\u001b[49m\u001b[43m)\u001b[49m\n\u001b[32m   3010\u001b[39m orig_out_shardings = out_shardings\n\u001b[32m   3012\u001b[39m \u001b[38;5;28;01mif\u001b[39;00m auto_spmd_lowering:\n",
            "\u001b[36mFile \u001b[39m\u001b[32m~/micromamba/envs/s2fft/lib/python3.11/site-packages/jax/_src/interpreters/pxla.py:2792\u001b[39m, in \u001b[36m_cached_compilation\u001b[39m\u001b[34m(computation, name, mesh, spmd_lowering, tuple_args, auto_spmd_lowering, allow_prop_to_inputs, allow_prop_to_outputs, host_callbacks, backend, da, pmap_nreps, compiler_options_kvs, pgle_profiler)\u001b[39m\n\u001b[32m   2785\u001b[39m compiler_options = \u001b[38;5;28mdict\u001b[39m(compiler_options_kvs)\n\u001b[32m   2787\u001b[39m compile_options = create_compile_options(\n\u001b[32m   2788\u001b[39m     computation, mesh, spmd_lowering, tuple_args, auto_spmd_lowering,\n\u001b[32m   2789\u001b[39m     allow_prop_to_inputs, allow_prop_to_outputs, backend,\n\u001b[32m   2790\u001b[39m     dev, pmap_nreps, compiler_options)\n\u001b[32m-> \u001b[39m\u001b[32m2792\u001b[39m \u001b[43m\u001b[49m\u001b[38;5;28;43;01mwith\u001b[39;49;00m\u001b[43m \u001b[49m\u001b[43mdispatch\u001b[49m\u001b[43m.\u001b[49m\u001b[43mlog_elapsed_time\u001b[49m\u001b[43m(\u001b[49m\n\u001b[32m   2793\u001b[39m \u001b[43m    \u001b[49m\u001b[33;43m\"\u001b[39;49m\u001b[33;43mFinished XLA compilation of \u001b[39;49m\u001b[38;5;132;43;01m{fun_name}\u001b[39;49;00m\u001b[33;43m in \u001b[39;49m\u001b[38;5;132;43;01m{elapsed_time:.9f}\u001b[39;49;00m\u001b[33;43m sec\u001b[39;49m\u001b[33;43m\"\u001b[39;49m\u001b[43m,\u001b[49m\n\u001b[32m   2794\u001b[39m \u001b[43m    \u001b[49m\u001b[43mfun_name\u001b[49m\u001b[43m=\u001b[49m\u001b[43mname\u001b[49m\u001b[43m,\u001b[49m\u001b[43m \u001b[49m\u001b[43mevent\u001b[49m\u001b[43m=\u001b[49m\u001b[43mdispatch\u001b[49m\u001b[43m.\u001b[49m\u001b[43mBACKEND_COMPILE_EVENT\u001b[49m\u001b[43m)\u001b[49m\u001b[43m:\u001b[49m\n\u001b[32m   2795\u001b[39m \u001b[43m  \u001b[49m\u001b[43mxla_executable\u001b[49m\u001b[43m \u001b[49m\u001b[43m=\u001b[49m\u001b[43m \u001b[49m\u001b[43mcompiler\u001b[49m\u001b[43m.\u001b[49m\u001b[43mcompile_or_get_cached\u001b[49m\u001b[43m(\u001b[49m\n\u001b[32m   2796\u001b[39m \u001b[43m      \u001b[49m\u001b[43mbackend\u001b[49m\u001b[43m,\u001b[49m\u001b[43m \u001b[49m\u001b[43mcomputation\u001b[49m\u001b[43m,\u001b[49m\u001b[43m \u001b[49m\u001b[43mdev\u001b[49m\u001b[43m,\u001b[49m\u001b[43m \u001b[49m\u001b[43mcompile_options\u001b[49m\u001b[43m,\u001b[49m\u001b[43m \u001b[49m\u001b[43mhost_callbacks\u001b[49m\u001b[43m,\u001b[49m\n\u001b[32m   2797\u001b[39m \u001b[43m      \u001b[49m\u001b[43mpgle_profiler\u001b[49m\u001b[43m)\u001b[49m\n\u001b[32m   2798\u001b[39m \u001b[38;5;28;01mreturn\u001b[39;00m xla_executable\n",
            "\u001b[36mFile \u001b[39m\u001b[32m~/micromamba/envs/s2fft/lib/python3.11/site-packages/jax/_src/dispatch.py:183\u001b[39m, in \u001b[36mLogElapsedTimeContextManager.__exit__\u001b[39m\u001b[34m(self, exc_type, exc_value, traceback)\u001b[39m\n\u001b[32m    180\u001b[39m \u001b[38;5;28;01mdef\u001b[39;00m\u001b[38;5;250m \u001b[39m\u001b[34m__enter__\u001b[39m(\u001b[38;5;28mself\u001b[39m):\n\u001b[32m    181\u001b[39m   \u001b[38;5;28mself\u001b[39m.start_time = time.time()\n\u001b[32m--> \u001b[39m\u001b[32m183\u001b[39m \u001b[38;5;28;01mdef\u001b[39;00m\u001b[38;5;250m \u001b[39m\u001b[34m__exit__\u001b[39m(\u001b[38;5;28mself\u001b[39m, exc_type, exc_value, traceback):\n\u001b[32m    184\u001b[39m   \u001b[38;5;28;01mif\u001b[39;00m _on_exit:\n\u001b[32m    185\u001b[39m     \u001b[38;5;28;01mreturn\u001b[39;00m\n",
            "\u001b[31mKeyboardInterrupt\u001b[39m: "
          ]
        },
        {
          "ename": "",
          "evalue": "",
          "output_type": "error",
          "traceback": [
            "\u001b[1;31mThe Kernel crashed while executing code in the current cell or a previous cell. \n",
            "\u001b[1;31mPlease review the code in the cell(s) to identify a possible cause of the failure. \n",
            "\u001b[1;31mClick <a href='https://aka.ms/vscodeJupyterKernelCrash'>here</a> for more info. \n",
            "\u001b[1;31mView Jupyter <a href='command:jupyter.viewOutput'>log</a> for further details."
          ]
        }
      ],
      "source": [
        "fwd_times = []\n",
        "bwd_times = []\n",
        "nsides = [4 , 8 , 16 , 32 , 64 , 128 , 256 ]\n",
        "for nside in nsides:\n",
        "    fwd_times.append(run_fwd_test(nside))\n",
        "    bwd_times.append(run_bwd_test(nside))"
      ]
    },
    {
      "cell_type": "markdown",
      "metadata": {},
      "source": [
        "### Plotting Utility\n",
        "\n",
        "This cell defines a utility function to plot the compilation and execution times obtained from the benchmarking tests."
      ]
    },
    {
      "cell_type": "code",
      "execution_count": null,
      "metadata": {},
      "outputs": [],
      "source": [
        "import matplotlib.pyplot as plt\n",
        "import numpy as np\n",
        "import seaborn as sns\n",
        "sns.plotting_context(\"poster\")\n",
        "sns.set(font_scale=1.4)\n",
        "\n",
        "\n",
        "def plot_times(title, nsides, chrono_times):\n",
        "\n",
        "    # Extracting times from the chrono_times\n",
        "    cuda_jit_times = [times[0] for times in chrono_times]\n",
        "    cuda_run_times = [times[1] for times in chrono_times]\n",
        "    jax_jit_times = [times[2] for times in chrono_times]\n",
        "    jax_run_times = [times[3] for times in chrono_times]\n",
        "    healpy_jit_times = [times[4] for times in chrono_times]\n",
        "    healpy_run_times = [times[5] for times in chrono_times]\n",
        "\n",
        "    # Create subplots\n",
        "    fig, (ax1, ax2) = plt.subplots(1, 2, figsize=(14, 7))\n",
        "\n",
        "    f2 = lambda a: np.log2(a)\n",
        "    g2 = lambda b: b**2\n",
        "\n",
        "\n",
        "    # Plot for JIT times\n",
        "    ax1.plot(nsides, cuda_jit_times, 'g-o', label='ours')\n",
        "    ax1.plot(nsides, jax_jit_times, 'b-o', label='s2fft base')\n",
        "    ax1.plot(nsides, healpy_jit_times, 'r-o', label='Healpy')\n",
        "    ax1.set_title('Compilation Times (first run)')\n",
        "    ax1.set_xlabel('nside')\n",
        "    ax1.set_ylabel('Time (seconds)')\n",
        "    ax1.set_xscale('function', functions=(f2, g2))\n",
        "    ax1.set_xticks(nsides)\n",
        "    ax1.set_xticklabels(nsides)\n",
        "    ax1.legend()\n",
        "    ax1.grid(True, which=\"both\", ls=\"--\")\n",
        "\n",
        "    # Plot for Run times\n",
        "    ax2.plot(nsides, cuda_run_times, 'g-o', label='ours')\n",
        "    ax2.plot(nsides, jax_run_times, 'b-o', label='s2fft base')\n",
        "    ax2.plot(nsides, healpy_run_times, 'r-o', label='Healpy')\n",
        "    ax2.set_title('Execution Times')\n",
        "    ax2.set_xlabel('nside')\n",
        "    ax2.set_ylabel('Time (seconds)')\n",
        "    ax2.set_xscale('function', functions=(f2, g2))\n",
        "    ax2.set_xticks(nsides)\n",
        "    ax2.set_xticklabels(nsides)\n",
        "    ax2.legend()\n",
        "    ax2.grid(True, which=\"both\", ls=\"--\")\n",
        "\n",
        "    # Set the overall title for the figure\n",
        "    fig.suptitle(title, fontsize=16)\n",
        "\n",
        "    # Show the plots\n",
        "    plt.tight_layout(rect=[0, 0, 1, 0.96])  # Adjust rect to make space for the suptitle\n",
        "    plt.show()"
      ]
    },
    {
      "cell_type": "markdown",
      "metadata": {},
      "source": [
        "### Visualize Performance Results\n",
        "\n",
        "This cell calls the plotting function to visualize the benchmark results for forward and backward transforms."
      ]
    },
    {
      "cell_type": "code",
      "execution_count": null,
      "metadata": {},
      "outputs": [],
      "source": [
        "plot_times(\"Forward FFT Times\", nsides, fwd_times)\n",
        "plot_times(\"Backward FFT Times\", nsides, bwd_times)"
      ]
    },
    {
      "cell_type": "markdown",
      "metadata": {},
      "source": [
        "### Final Reconstruction and Error Check\n",
        "\n",
        "This cell performs a final inverse transform to reconstruct the map and calculates the Mean Squared Error (MSE) against the `healpy` reconstructed map to verify accuracy."
      ]
    },
    {
      "cell_type": "code",
      "execution_count": null,
      "metadata": {},
      "outputs": [
        {
          "name": "stdout",
          "output_type": "stream",
          "text": [
            "shape of map_reconstructed: (3072,)\n",
            "Mean Squared Error between reconstructed map and healpy map: (1.8236620334440454e-27-8.008792862185043e-31j)\n"
          ]
        }
      ],
      "source": [
        "# Test backward transform\n",
        "map_reconstructed = inverse(j_alms, nside=nside, L=L, sampling='healpix', method='jax_cuda')\n",
        "print(f\"shape of map_reconstructed: {map_reconstructed.shape}\")\n",
        "hp_reconstructed = hp.alm2map(alms_healpy, nside=nside, lmax=lmax)\n",
        "\n",
        "# Compute the mean squared error between the two maps\n",
        "mse = jnp.mean((map_reconstructed - hp_reconstructed) ** 2)\n",
        "print(f\"Mean Squared Error between reconstructed map and healpy map: {mse}\")"
      ]
    }
  ],
  "metadata": {
    "kernelspec": {
      "display_name": "Python 3",
      "language": "python",
      "name": "python3"
    },
    "language_info": {
      "codemirror_mode": {
        "name": "ipython",
        "version": 3
      },
      "file_extension": ".py",
      "mimetype": "text/x-python",
      "name": "python",
      "nbconvert_exporter": "python",
      "pygments_lexer": "ipython3",
      "version": "3.11.4"
    }
  },
  "nbformat": 4,
  "nbformat_minor": 2
}
