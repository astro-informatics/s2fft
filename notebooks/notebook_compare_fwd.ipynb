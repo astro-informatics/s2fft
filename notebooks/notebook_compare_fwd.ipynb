{
 "cells": [
  {
   "cell_type": "code",
   "execution_count": null,
   "metadata": {},
   "outputs": [],
   "source": [
    "import sys\n",
    "sys.path.append('../')"
   ]
  },
  {
   "cell_type": "code",
   "execution_count": 1,
   "metadata": {},
   "outputs": [],
   "source": [
    "import numpy as np\n",
    "\n",
    "import pyssht as ssht\n",
    "import s2fft as s2f\n",
    "import s2fft.samples as samples\n",
    "import s2fft.quadrature as quadrature\n",
    "import s2fft.resampling as resampling\n",
    "import s2fft.wigner as wigner\n",
    "import s2fft.healpix_ffts as hp\n",
    "import healpy as hpy\n",
    "\n",
    "import jax\n",
    "from jax import jit, device_put\n",
    "import jax.numpy as jnp\n",
    "from jax.config import config\n",
    "\n",
    "import matplotlib.pyplot as plt\n",
    "\n",
    "config.update(\"jax_enable_x64\", True)"
   ]
  },
  {
   "cell_type": "code",
   "execution_count": 3,
   "metadata": {},
   "outputs": [],
   "source": [
    "## Sample data\n",
    "\n",
    "# input params\n",
    "L = 5  # 128 # in tests: 5\n",
    "spin = 2  # 2 # in tests: [0, 1, 2]\n",
    "sampling = \"mw\"  #'dh' # in tests: [\"mw\", \"mwss\", \"dh\", \"healpix\"]\n",
    "nside = None #[2,4,8] in tests, None if sampling not healpix\n",
    "\n",
    "# generate spherical harmonics (ground truth)\n",
    "# random---modify to use JAX random key approach?\n",
    "DEFAULT_SEED = 8966433580120847635\n",
    "rn_gen = np.random.default_rng(DEFAULT_SEED)\n",
    "\n",
    "\n",
    "# compute signal in time domain with ssht (starting point)\n",
    "# if healpix: we use the inverse from 'direct'? (or 'sov_fft_vectorized'?)\n",
    "if sampling == 'healpix':\n",
    "    flm_gt0 = s2f.utils.generate_flm(rn_gen, L, spin, reality=False) # shape L, 2L-1\n",
    "    f = s2f.transform._inverse(flm_gt0, L, sampling=sampling, method='direct', nside=nside)\n",
    "    flm_gt = hpy.sphtfunc.map2alm(np.real(f), lmax=L - 1, iter=0) #ground-truth\n",
    "    flm_gt = s2f.samples.flm_hp_to_2d(flm_gt, L)\n",
    "    \n",
    "else:\n",
    "    flm_gt = s2f.utils.generate_flm(rn_gen, L, spin, reality=False) # shape L, 2L-1\n",
    "    f = ssht.inverse(\n",
    "        s2f.samples.flm_2d_to_1d(flm_gt, L),  # 2D indexed coeffs to 1D indexed\n",
    "        L,\n",
    "        Method=sampling.upper(),\n",
    "        Spin=spin,\n",
    "        Reality=False,\n",
    "    )"
   ]
  },
  {
   "cell_type": "code",
   "execution_count": 4,
   "metadata": {},
   "outputs": [
    {
     "name": "stdout",
     "output_type": "stream",
     "text": [
      "True\n"
     ]
    }
   ],
   "source": [
    "# Using SOV + FFT Vectorised\n",
    "method_str = \"sov_fft_vectorized\"\n",
    "flm_sov_fft_vec = s2f.transform._forward(f, L, spin, sampling, method=method_str, nside=nside)\n",
    "\n",
    "print(np.allclose(flm_gt, flm_sov_fft_vec, atol=1e-14)) #returns False for healpix\n",
    "\n",
    "# %timeit s2f.transform._forward(f, L, spin, sampling, method=method_str)"
   ]
  },
  {
   "cell_type": "code",
   "execution_count": 5,
   "metadata": {},
   "outputs": [
    {
     "name": "stdout",
     "output_type": "stream",
     "text": [
      "True\n"
     ]
    }
   ],
   "source": [
    "# Using SOV + FFT Vectorised JAXed\n",
    "method_str = \"sov_fft_vectorized_jax\"\n",
    "flm_sov_fft_vec_jax = s2f.transform._forward(f, L, spin, sampling, method=method_str, nside=nside) # shape L, 2L-1\n",
    "\n",
    "print(np.allclose(flm_gt, flm_sov_fft_vec_jax, atol=1e-14))\n",
    "# print(np.allclose(flm_sov_fft_vec, flm_sov_fft_vec_jax, atol=1e-14)) \n",
    "# ---returns True if replacing `wigner.turok.compute_slice(theta, el, L, -spin)` with \n",
    "# `np.array(wigner.turok_jax.compute_slice(theta, el, L, -spin))` in _compute_forward_sov_fft_vectorized\n",
    "\n",
    "# %timeit s2f.transform._forward(f, L, spin, sampling, method=method_str)\n"
   ]
  },
  {
   "cell_type": "code",
   "execution_count": null,
   "metadata": {},
   "outputs": [],
   "source": [
    "# Compare real part\n",
    "plt.figure()\n",
    "plt.imshow(flm_sov_fft_vec_jax.real)\n",
    "plt.title('forward sov fft vec JAX - Re')\n",
    "\n",
    "plt.figure()\n",
    "plt.imshow(flm_sov_fft_vec.real)\n",
    "plt.title('forward sov fft vec - Re')\n",
    "\n",
    "plt.figure()\n",
    "plt.imshow(np.isclose(flm_sov_fft_vec_jax.real,\n",
    "                      flm_sov_fft_vec.real,\n",
    "                      atol=1e-14))\n",
    "plt.colorbar()"
   ]
  },
  {
   "cell_type": "code",
   "execution_count": null,
   "metadata": {},
   "outputs": [],
   "source": [
    "# Compare Im part\n",
    "plt.figure()\n",
    "plt.imshow(flm_sov_fft_vec_jax.imag)\n",
    "plt.title('forward sov fft vec JAX - Im')\n",
    "\n",
    "plt.figure()\n",
    "plt.imshow(flm_sov_fft_vec.imag)\n",
    "plt.title('forward sov fft vec - Im')\n",
    "\n",
    "plt.figure()\n",
    "plt.imshow(np.isclose(flm_sov_fft_vec_jax.imag,\n",
    "                      flm_sov_fft_vec.imag,\n",
    "                      atol=1e-14))\n",
    "plt.colorbar()"
   ]
  },
  {
   "cell_type": "code",
   "execution_count": 9,
   "metadata": {},
   "outputs": [
    {
     "data": {
      "text/plain": [
       "<matplotlib.image.AxesImage at 0x7f875c08a640>"
      ]
     },
     "execution_count": 9,
     "metadata": {},
     "output_type": "execute_result"
    },
    {
     "data": {
      "image/png": "[encoded data removed]",
      "text/plain": [
       "<Figure size 432x288 with 1 Axes>"
      ]
     },
     "metadata": {
      "needs_background": "light"
     },
     "output_type": "display_data"
    },
    {
     "data": {
      "image/png": "[encoded data removed]",
      "text/plain": [
       "<Figure size 432x288 with 1 Axes>"
      ]
     },
     "metadata": {
      "needs_background": "light"
     },
     "output_type": "display_data"
    },
    {
     "data": {
      "image/png": "[encoded data removed]",
      "text/plain": [
       "<Figure size 432x288 with 1 Axes>"
      ]
     },
     "metadata": {
      "needs_background": "light"
     },
     "output_type": "display_data"
    },
    {
     "data": {
      "image/png": "[encoded data removed]",
      "text/plain": [
       "<Figure size 432x288 with 1 Axes>"
      ]
     },
     "metadata": {
      "needs_background": "light"
     },
     "output_type": "display_data"
    }
   ],
   "source": [
    "# Mask\n",
    "import numpy as np\n",
    "\n",
    "A = np.triu(flm_sov_fft_vec_jax.imag.T,k=-(L-1))\n",
    "B = np.triu(np.fliplr(flm_sov_fft_vec_jax.imag).T,k=-(L-1))\n",
    "\n",
    "plt.figure()\n",
    "plt.imshow(flm_sov_fft_vec.imag)\n",
    "\n",
    "plt.figure()\n",
    "plt.imshow(flm_sov_fft_vec_jax.imag)\n",
    "\n",
    "plt.figure()\n",
    "plt.imshow(A.T)\n",
    "\n",
    "plt.figure()\n",
    "plt.imshow(np.fliplr(B.T))"
   ]
  },
  {
   "cell_type": "code",
   "execution_count": 41,
   "metadata": {},
   "outputs": [
    {
     "data": {
      "text/plain": [
       "Text(0.5, 1.0, 'output')"
      ]
     },
     "execution_count": 41,
     "metadata": {},
     "output_type": "execute_result"
    },
    {
     "data": {
      "image/png": "[encoded data removed]",
      "text/plain": [
       "<Figure size 432x288 with 1 Axes>"
      ]
     },
     "metadata": {
      "needs_background": "light"
     },
     "output_type": "display_data"
    },
    {
     "data": {
      "image/png": "[encoded data removed]",
      "text/plain": [
       "<Figure size 432x288 with 1 Axes>"
      ]
     },
     "metadata": {
      "needs_background": "light"
     },
     "output_type": "display_data"
    },
    {
     "data": {
      "image/png": "[encoded data removed]",
      "text/plain": [
       "<Figure size 432x288 with 1 Axes>"
      ]
     },
     "metadata": {
      "needs_background": "light"
     },
     "output_type": "display_data"
    },
    {
     "data": {
      "image/png": "[encoded data removed]",
      "text/plain": [
       "<Figure size 432x288 with 1 Axes>"
      ]
     },
     "metadata": {
      "needs_background": "light"
     },
     "output_type": "display_data"
    }
   ],
   "source": [
    "# Design mask for flm jax output?\n",
    "import numpy as np\n",
    "\n",
    "A = np.triu(np.ones_like(flm_sov_fft_vec_jax,dtype=bool).T,k=-(L-1))\n",
    "B = np.fliplr(A.T)\n",
    "C = A.T*B\n",
    "\n",
    "plt.figure()\n",
    "plt.imshow(flm_sov_fft_vec.imag)\n",
    "plt.title('target')\n",
    "\n",
    "plt.figure()\n",
    "plt.imshow(flm_sov_fft_vec_jax.imag)\n",
    "plt.title('output')\n",
    "\n",
    "plt.figure()\n",
    "plt.imshow(C)\n",
    "plt.title('mask')\n",
    "\n",
    "plt.figure()\n",
    "plt.imshow(flm_sov_fft_vec_jax.imag*C)\n",
    "plt.title('output')"
   ]
  }
 ],
 "metadata": {
  "kernelspec": {
   "display_name": "Python 3.9.13 ('jax-astro2')",
   "language": "python",
   "name": "python3"
  },
  "language_info": {
   "codemirror_mode": {
    "name": "ipython",
    "version": 3
   },
   "file_extension": ".py",
   "mimetype": "text/x-python",
   "name": "python",
   "nbconvert_exporter": "python",
   "pygments_lexer": "ipython3",
   "version": "3.9.13"
  },
  "orig_nbformat": 4,
  "vscode": {
   "interpreter": {
    "hash": "19ead953c785f1bded8bcc3e77394fab45d20188e9271c3b12915874810ab57b"
   }
  }
 },
 "nbformat": 4,
 "nbformat_minor": 2
}
