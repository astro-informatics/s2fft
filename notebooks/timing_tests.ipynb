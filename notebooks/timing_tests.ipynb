{
 "cells": [
  {
   "cell_type": "code",
   "execution_count": 1,
   "id": "5a7b44d0",
   "metadata": {},
   "outputs": [],
   "source": [
    "import numpy as np\n",
    "import jax.numpy as jnp\n",
    "from jax.config import config\n",
    "config.update(\"jax_enable_x64\", True)"
   ]
  },
  {
   "cell_type": "code",
   "execution_count": 2,
   "id": "4b68d1cf",
   "metadata": {},
   "outputs": [],
   "source": [
    "import s2fft\n",
    "import s2fft.wigner as wigner\n",
    "import pyssht as ssht"
   ]
  },
  {
   "cell_type": "code",
   "execution_count": 3,
   "id": "bb72447e",
   "metadata": {},
   "outputs": [],
   "source": [
    "# Set bandlimit\n",
    "L = 128"
   ]
  },
  {
   "cell_type": "code",
   "execution_count": 4,
   "id": "0923387f",
   "metadata": {},
   "outputs": [],
   "source": [
    "dl = np.zeros((2 * L - 1, 2 * L - 1), dtype=np.float64)\n",
    "dl = wigner.trapani.init(dl, L)\n",
    "for el in range(1, L):\n",
    "    dl = wigner.trapani.compute_full(dl, L, el)"
   ]
  },
  {
   "cell_type": "code",
   "execution_count": 5,
   "id": "5d3367e6",
   "metadata": {},
   "outputs": [
    {
     "name": "stdout",
     "output_type": "stream",
     "text": [
      "83.5 ms ± 4.18 ms per loop (mean ± std. dev. of 7 runs, 10 loops each)\n"
     ]
    }
   ],
   "source": [
    "%timeit wigner.trapani.compute_full(dl, L, el)"
   ]
  },
  {
   "cell_type": "code",
   "execution_count": 6,
   "id": "85176e2e",
   "metadata": {},
   "outputs": [],
   "source": [
    "dl_vect = np.zeros((2 * L - 1, 2 * L - 1), dtype=np.float64)\n",
    "dl_vect = wigner.trapani.init(dl_vect, L)\n",
    "for el in range(1, L):\n",
    "    dl_vect = wigner.trapani.compute_full_vectorized(dl_vect, L, el)   "
   ]
  },
  {
   "cell_type": "code",
   "execution_count": 7,
   "id": "090fd789",
   "metadata": {},
   "outputs": [
    {
     "name": "stdout",
     "output_type": "stream",
     "text": [
      "4.47 ms ± 1.04 ms per loop (mean ± std. dev. of 7 runs, 100 loops each)\n"
     ]
    }
   ],
   "source": [
    "%timeit wigner.trapani.compute_full_vectorized(dl_vect, L, el)"
   ]
  },
  {
   "cell_type": "code",
   "execution_count": 8,
   "id": "81ba9123",
   "metadata": {},
   "outputs": [
    {
     "name": "stderr",
     "output_type": "stream",
     "text": [
      "WARNING:absl:No GPU/TPU found, falling back to CPU. (Set TF_CPP_MIN_LOG_LEVEL=0 and rerun for more info.)\n"
     ]
    }
   ],
   "source": [
    "# Compare to routines in SSHT, which have been validated extensively.\n",
    "dl_jax = jnp.zeros((2 * L - 1, 2 * L - 1), dtype=jnp.float64)\n",
    "dl_jax = wigner.trapani.init_jax(dl_jax, L)\n",
    "for el in range(1, L):\n",
    "    dl_jax = wigner.trapani.compute_full_jax(dl_jax, L, el)"
   ]
  },
  {
   "cell_type": "code",
   "execution_count": 9,
   "id": "cf5a98f6",
   "metadata": {},
   "outputs": [
    {
     "name": "stdout",
     "output_type": "stream",
     "text": [
      "1.06 ms ± 179 µs per loop (mean ± std. dev. of 7 runs, 1000 loops each)\n"
     ]
    }
   ],
   "source": [
    "%timeit wigner.trapani.compute_full_jax(dl_jax, L, el)"
   ]
  }
 ],
 "metadata": {
  "kernelspec": {
   "display_name": "Python 3",
   "language": "python",
   "name": "python3"
  },
  "language_info": {
   "codemirror_mode": {
    "name": "ipython",
    "version": 3
   },
   "file_extension": ".py",
   "mimetype": "text/x-python",
   "name": "python",
   "nbconvert_exporter": "python",
   "pygments_lexer": "ipython3",
   "version": "3.8.12"
  }
 },
 "nbformat": 4,
 "nbformat_minor": 5
}
