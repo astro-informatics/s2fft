{
 "cells": [
  {
   "cell_type": "markdown",
   "metadata": {},
   "source": [
    "# Spin functional JAX-SHT by exploiting kernel precomputes\n",
    "\n",
    "Lets start by importing some packages"
   ]
  },
  {
   "cell_type": "code",
   "execution_count": null,
   "metadata": {},
   "outputs": [],
   "source": [
    "import numpy as np\n",
    "import pyssht as ssht \n",
    "\n",
    "from jax import jit, device_put\n",
    "import jax.numpy as jnp\n",
    "from jax.config import config\n",
    "\n",
    "config.update(\"jax_enable_x64\", True)\n",
    "\n",
    "from s2fft.precompute.construct_legendre_matrix import load_legendre_matrix\n",
    "from s2fft.precompute.transforms import *\n",
    "from s2fft.utils import generate_flm"
   ]
  },
  {
   "cell_type": "markdown",
   "metadata": {},
   "source": [
    "### Generate a random complex bandlimited field"
   ]
  },
  {
   "cell_type": "code",
   "execution_count": null,
   "metadata": {},
   "outputs": [],
   "source": [
    "L = 128\n",
    "spin = 2\n",
    "flm = generate_flm(L, spin)\n",
    "f = ssht.inverse(flm, L, spin)"
   ]
  },
  {
   "cell_type": "markdown",
   "metadata": {},
   "source": [
    "### Load/construct relevant associated Legendre kernels"
   ]
  },
  {
   "cell_type": "code",
   "execution_count": null,
   "metadata": {},
   "outputs": [],
   "source": [
    "legendre_forward = load_legendre_matrix(L=L, direction=\"forward\", save_dir=\"../.matrices\", spin=spin)\n",
    "legendre_inverse = load_legendre_matrix(L=L, direction=\"inverse\", save_dir=\"../.matrices\", spin=spin)\n",
    "\n",
    "legendre_forward_jax = device_put(legendre_forward)\n",
    "legendre_inverse_jax = device_put(legendre_inverse)"
   ]
  },
  {
   "cell_type": "markdown",
   "metadata": {},
   "source": [
    "# Forward transform\n",
    "\n",
    "Shape: $(L, 2L-1) \\rightarrow L(2L-1)$ triangularly oversampled spherical harmonic coefficients."
   ]
  },
  {
   "cell_type": "markdown",
   "metadata": {},
   "source": [
    "### SSHT CPU Cython implementation"
   ]
  },
  {
   "cell_type": "code",
   "execution_count": null,
   "metadata": {},
   "outputs": [],
   "source": [
    "%timeit ssht.forward(f, L, spin)"
   ]
  },
  {
   "cell_type": "markdown",
   "metadata": {},
   "source": [
    "### NumPy CPU implementation"
   ]
  },
  {
   "cell_type": "code",
   "execution_count": null,
   "metadata": {},
   "outputs": [],
   "source": [
    "flm_cpu = forward_transform_cpu(f, legendre_forward, L)\n",
    "%timeit forward_transform_cpu(f, legendre_forward, L)"
   ]
  },
  {
   "cell_type": "markdown",
   "metadata": {},
   "source": [
    "### JAX GPU implementation"
   ]
  },
  {
   "cell_type": "code",
   "execution_count": null,
   "metadata": {},
   "outputs": [],
   "source": [
    "f_jax = device_put(f)\n",
    "forward_jit = jit(forward_transform_gpu, static_argnums=(2,))\n",
    "flm_gpu = forward_jit(f_jax, legendre_forward_jax, L).block_until_ready()\n",
    "\n",
    "%timeit forward_jit(f_jax, legendre_forward_jax, L)"
   ]
  },
  {
   "cell_type": "markdown",
   "metadata": {},
   "source": [
    "### Evaluate transform error"
   ]
  },
  {
   "cell_type": "code",
   "execution_count": null,
   "metadata": {},
   "outputs": [],
   "source": [
    "flm_gpu = np.array(flm_gpu)\n",
    "print(\"CPU: Forward mean absolute error = {}\".format(np.nanmean(np.abs(flm_cpu[np.nonzero(flm_cpu)] - flm[spin**2:]))))\n",
    "print(\"GPU: Forward mean absolute error = {}\".format(np.nanmean(np.abs(flm_gpu[np.nonzero(flm_gpu)] - flm[spin**2:]))))"
   ]
  },
  {
   "cell_type": "markdown",
   "metadata": {},
   "source": [
    "# Inverse transform \n",
    "Shape: $L(2L-1) \\rightarrow (L, 2L-1)$ "
   ]
  },
  {
   "cell_type": "markdown",
   "metadata": {},
   "source": [
    "### SSHT CPU Cython implementation"
   ]
  },
  {
   "cell_type": "code",
   "execution_count": null,
   "metadata": {},
   "outputs": [],
   "source": [
    "%timeit ssht.inverse(flm, L, spin)"
   ]
  },
  {
   "cell_type": "markdown",
   "metadata": {},
   "source": [
    "### NumPy CPU implementation"
   ]
  },
  {
   "cell_type": "code",
   "execution_count": null,
   "metadata": {},
   "outputs": [],
   "source": [
    "f_cpu = inverse_transform_cpu(flm_cpu, legendre_inverse, L)\n",
    "%timeit inverse_transform_cpu(flm_cpu, legendre_inverse, L)"
   ]
  },
  {
   "cell_type": "markdown",
   "metadata": {},
   "source": [
    "### JAX GPU implementation"
   ]
  },
  {
   "cell_type": "code",
   "execution_count": null,
   "metadata": {},
   "outputs": [],
   "source": [
    "flm_gpu = device_put(flm_gpu)\n",
    "inverse_jit = jit(inverse_transform_gpu, static_argnums=(2,))\n",
    "f_gpu = inverse_jit(flm_gpu, legendre_inverse_jax, L).block_until_ready()\n",
    "\n",
    "%timeit inverse_jit(flm_gpu, legendre_inverse_jax, L)"
   ]
  },
  {
   "cell_type": "markdown",
   "metadata": {},
   "source": [
    "### Evaluate transform error"
   ]
  },
  {
   "cell_type": "code",
   "execution_count": null,
   "metadata": {},
   "outputs": [],
   "source": [
    "f_gpu = np.array(f_gpu)\n",
    "print(\"CPU: Forward mean absolute error = {}\".format(np.nanmean(np.abs(f_cpu - f))))\n",
    "print(\"GPU: Forward mean absolute error = {}\".format(np.nanmean(np.abs(f_gpu - f))))"
   ]
  }
 ],
 "metadata": {
  "interpreter": {
   "hash": "805e7ce19fe903a3ed1299c98a3c14514eb61d14b8d138d66cb4f32886f441e4"
  },
  "kernelspec": {
   "display_name": "Python 3.8.10 ('.venv-s2fft': venv)",
   "language": "python",
   "name": "python3"
  },
  "language_info": {
   "codemirror_mode": {
    "name": "ipython",
    "version": 3
   },
   "file_extension": ".py",
   "mimetype": "text/x-python",
   "name": "python",
   "nbconvert_exporter": "python",
   "pygments_lexer": "ipython3",
   "version": "3.8.10"
  },
  "orig_nbformat": 4
 },
 "nbformat": 4,
 "nbformat_minor": 2
}
