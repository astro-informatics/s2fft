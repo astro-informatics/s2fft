{
 "cells": [
  {
   "cell_type": "code",
   "execution_count": null,
   "metadata": {},
   "outputs": [],
   "source": [
    "import numpy as np\n",
    "import jax.numpy as jnp\n",
    "import s2fft.wigner as wigner\n",
    "import s2fft.samples as samples\n",
    "import pyssht as ssht\n",
    "\n",
    "from jax.config import config\n",
    "\n",
    "config.update(\"jax_enable_x64\", True)"
   ]
  },
  {
   "cell_type": "code",
   "execution_count": null,
   "metadata": {},
   "outputs": [],
   "source": [
    "L = 32\n",
    "el = L-1\n",
    "beta = 2*np.pi/3\n",
    "spin = 0\n",
    "sampling = \"mw\""
   ]
  },
  {
   "cell_type": "code",
   "execution_count": null,
   "metadata": {},
   "outputs": [],
   "source": [
    "# Test all dl() terms up to L.\n",
    "dl = np.zeros(2 * L - 1, dtype=np.float64)\n",
    "\n",
    "dl_array = ssht.generate_dl(beta, L)[el][L-1-spin]\n",
    "\n",
    "%timeit ssht.generate_dl(beta, L)\n",
    "\n",
    "def test_dls(dl):\n",
    "    np.testing.assert_allclose(\n",
    "        dl, dl_array, atol=1e-10, rtol=1e-12\n",
    "    )"
   ]
  },
  {
   "cell_type": "code",
   "execution_count": null,
   "metadata": {},
   "outputs": [],
   "source": [
    "dl = np.zeros(2 * L - 1, dtype=np.float64)\n",
    "dl_turok = wigner.turok.compute_slice(dl, beta, el, L, -spin)\n",
    "\n",
    "test_dls(dl_turok)\n",
    "\n",
    "%timeit wigner.turok.compute_slice(dl, beta, el, L, -spin)"
   ]
  },
  {
   "cell_type": "code",
   "execution_count": null,
   "metadata": {},
   "outputs": [],
   "source": [
    "dl_turok_gpu = wigner.turok_gpu.compute_slice(beta, el, L, -spin)\n",
    "test_dls(dl_turok_gpu)\n",
    "\n",
    "%timeit wigner.turok_gpu.compute_slice(beta, el, L, -spin)"
   ]
  },
  {
   "cell_type": "code",
   "execution_count": null,
   "metadata": {},
   "outputs": [],
   "source": [
    "from jax import jit, device_put\n",
    "forward_jit = jit(wigner.turok_gpu.compute_slice, static_argnums=(2,3))\n",
    "\n",
    "beta_jax = device_put(beta)\n",
    "el_jax = device_put(el)\n",
    "L_jax = device_put(L)\n",
    "spin_jax = device_put(-spin)\n",
    "\n",
    "dl_turok_gpu_jit = forward_jit(beta, el, L, -spin).block_until_ready()\n",
    "test_dls(dl_turok_gpu_jit)\n",
    "\n",
    "%timeit forward_jit(beta, el, L, -spin)"
   ]
  },
  {
   "cell_type": "code",
   "execution_count": null,
   "metadata": {},
   "outputs": [],
   "source": [
    "print(dl_turok_gpu[0:10])\n",
    "print(dl_turok_gpu_jit[0:10])\n",
    "print(dl_turok[0:10])\n",
    "print(dl_array[0:10])"
   ]
  },
  {
   "cell_type": "code",
   "execution_count": null,
   "metadata": {},
   "outputs": [],
   "source": []
  }
 ],
 "metadata": {
  "interpreter": {
   "hash": "3425e24474cbe920550266ea26b478634978cc419579f9dbcf479231067df6a3"
  },
  "kernelspec": {
   "display_name": "Python 3.9.0 64-bit ('s2fft')",
   "language": "python",
   "name": "python3"
  },
  "language_info": {
   "codemirror_mode": {
    "name": "ipython",
    "version": 3
   },
   "file_extension": ".py",
   "mimetype": "text/x-python",
   "name": "python",
   "nbconvert_exporter": "python",
   "pygments_lexer": "ipython3",
   "version": "3.8.13"
  },
  "orig_nbformat": 4
 },
 "nbformat": 4,
 "nbformat_minor": 2
}
