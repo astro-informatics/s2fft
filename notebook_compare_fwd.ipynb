{
 "cells": [
  {
   "cell_type": "code",
   "execution_count": 6,
   "metadata": {},
   "outputs": [],
   "source": [
    "import numpy as np\n",
    "\n",
    "import pyssht as ssht\n",
    "import s2fft as s2f\n",
    "import s2fft.samples as samples\n",
    "import s2fft.quadrature as quadrature\n",
    "import s2fft.resampling as resampling\n",
    "\n",
    "import jax\n",
    "from jax import jit, device_put\n",
    "import jax.numpy as jnp\n",
    "from jax.config import config\n",
    "\n",
    "import matplotlib.pyplot as plt\n",
    "\n",
    "config.update(\"jax_enable_x64\", True)"
   ]
  },
  {
   "cell_type": "code",
   "execution_count": 7,
   "metadata": {},
   "outputs": [],
   "source": [
    "## Sample data\n",
    "\n",
    "# input params\n",
    "L = 5  # 128 # in tests: 5\n",
    "spin = 2  # 2 # in tests: [0, 1, 2]\n",
    "sampling = \"mwss\"  #'dh' # in tests: [\"mw\", \"mwss\", \"dh\"]\n",
    "\n",
    "# generate spherical harmonics (ground truth)\n",
    "# random---modify to use JAX random key approach?\n",
    "DEFAULT_SEED = 8966433580120847635\n",
    "rn_gen = np.random.default_rng(DEFAULT_SEED)\n",
    "flm_gt = s2f.utils.generate_flm(rn_gen, L, spin, reality=False)\n",
    "\n",
    "# compute signal in time domain with ssht (starting point)\n",
    "f = ssht.inverse(\n",
    "    s2f.samples.flm_2d_to_1d(flm_gt, L),  # 2D indexed coeffs to 1D indexed\n",
    "    L,\n",
    "    Method=sampling.upper(),\n",
    "    Spin=spin,\n",
    "    Reality=False,\n",
    ")"
   ]
  },
  {
   "cell_type": "code",
   "execution_count": 8,
   "metadata": {},
   "outputs": [
    {
     "name": "stdout",
     "output_type": "stream",
     "text": [
      "True\n"
     ]
    }
   ],
   "source": [
    "# Using SOV + FFT Vectorised\n",
    "method_str = \"sov_fft_vectorized\"\n",
    "flm_sov_fft_vec = s2f.transform._forward(f, L, spin, sampling, method=method_str)\n",
    "\n",
    "print(np.allclose(flm_gt, flm_sov_fft_vec, atol=1e-14))\n",
    "\n",
    "# %timeit s2f.transform._forward(f, L, spin, sampling, method=method_str)"
   ]
  },
  {
   "cell_type": "code",
   "execution_count": 9,
   "metadata": {},
   "outputs": [
    {
     "name": "stdout",
     "output_type": "stream",
     "text": [
      "False\n"
     ]
    }
   ],
   "source": [
    "# Using SOV + FFT Vectorised JAXed\n",
    "method_str = \"sov_fft_vectorized_jax\"\n",
    "flm_sov_fft_vec_jax = s2f.transform._forward(f, L, spin, sampling, method=method_str)\n",
    "\n",
    "print(np.allclose(flm_gt, flm_sov_fft_vec_jax, atol=1e-14))\n",
    "# print(np.allclose(flm_sov_fft_vec, flm_sov_fft_vec_jax, atol=1e-14)) \n",
    "# ---returns True if replacing `wigner.turok.compute_slice(theta, el, L, -spin)` with \n",
    "# `np.array(wigner.turok_jax.compute_slice(theta, el, L, -spin))` in _compute_forward_sov_fft_vectorized\n",
    "\n",
    "# %timeit s2f.transform._forward(f, L, spin, sampling, method=method_str)"
   ]
  },
  {
   "cell_type": "code",
   "execution_count": null,
   "metadata": {},
   "outputs": [],
   "source": []
  },
  {
   "cell_type": "code",
   "execution_count": null,
   "metadata": {},
   "outputs": [],
   "source": [
    "# Using SOV + FFT Vectorised JAXed\n",
    "# method_str = \"sov_fft_vectorized_jax\"\n",
    "if sampling.lower() == \"mw\":\n",
    "    f = resampling.mw_to_mwss(f, L, spin)\n",
    "\n",
    "if sampling.lower() in [\"mw\", \"mwss\"]:\n",
    "    sampling = \"mwss\"\n",
    "    f = resampling.upsample_by_two_mwss(f, L, spin)\n",
    "    thetas = samples.thetas(2 * L, sampling)\n",
    "else:\n",
    "    thetas = samples.thetas(L, sampling)\n",
    "\n",
    "weights = quadrature.quad_weights_transform(L, sampling, 0, nside=None)\n",
    "\n",
    "\n",
    "flm_sov_fft_vec_2 = s2f.transform._compute_forward_sov_fft_vectorized_jax(\n",
    "    f, L, spin, sampling, thetas, weights, nside=None\n",
    ")  # , method=method_str)\n",
    "\n",
    "print(np.allclose(flm_gt, flm_sov_fft_vec, atol=1e-14))\n",
    "\n",
    "# %timeit s2f.transform._compute_forward_sov_fft_vectorized_jax(f, L, spin, sampling, thetas, weights, nside=None) #, method=method_str)"
   ]
  },
  {
   "cell_type": "code",
   "execution_count": null,
   "metadata": {},
   "outputs": [],
   "source": []
  },
  {
   "cell_type": "code",
   "execution_count": null,
   "metadata": {},
   "outputs": [],
   "source": [
    "# # JAX approach 1 (vectorised jaxifying)\n",
    "# flm_jax = s2f.transform.forward_sov_fft_vectorized_jax_1(\n",
    "#     f, L, spin, sampling\n",
    "# )\n",
    "# # compare to alternative computation of flm: flm_sov_fft_vec_jax_turok\n",
    "# print(np.allclose(flm_jax_1,\n",
    "#                   flm_sov_fft_vec_jax_turok, #w/o padding: flm_sov_fft_vec_jax_turok[spin:L, :],\n",
    "#                   atol=1e-14))\n",
    "\n",
    "# # %timeit s2f.transform.forward_sov_fft_vectorized_jax_turok(f, L, spin, sampling)\n",
    "# %timeit s2f.transform.forward_sov_fft_vectorized(f, L, spin, sampling)\n",
    "# %timeit s2f.transform.forward_sov_fft_vectorized_jax_1(f, L, spin, sampling).block_until_ready()"
   ]
  },
  {
   "cell_type": "code",
   "execution_count": null,
   "metadata": {},
   "outputs": [],
   "source": []
  },
  {
   "cell_type": "code",
   "execution_count": null,
   "metadata": {},
   "outputs": [],
   "source": []
  }
 ],
 "metadata": {
  "kernelspec": {
   "display_name": "Python 3.9.13 ('jax-astro2')",
   "language": "python",
   "name": "python3"
  },
  "language_info": {
   "codemirror_mode": {
    "name": "ipython",
    "version": 3
   },
   "file_extension": ".py",
   "mimetype": "text/x-python",
   "name": "python",
   "nbconvert_exporter": "python",
   "pygments_lexer": "ipython3",
   "version": "3.9.13"
  },
  "orig_nbformat": 4,
  "vscode": {
   "interpreter": {
    "hash": "19ead953c785f1bded8bcc3e77394fab45d20188e9271c3b12915874810ab57b"
   }
  }
 },
 "nbformat": 4,
 "nbformat_minor": 2
}
