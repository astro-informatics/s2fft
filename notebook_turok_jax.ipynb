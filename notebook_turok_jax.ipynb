{
 "cells": [
  {
   "cell_type": "code",
   "execution_count": 1,
   "metadata": {},
   "outputs": [],
   "source": [
    "import numpy as np\n",
    "\n",
    "import jax\n",
    "import jax.numpy as jnp\n",
    "from jax.config import config\n",
    "\n",
    "import pyssht as ssht\n",
    "import s2fft as s2f\n",
    "\n",
    "import s2fft.samples as samples\n",
    "import s2fft.resampling as resampling\n",
    "import s2fft.wigner as wigner\n",
    "\n",
    "\n",
    "config.update(\"jax_enable_x64\", True)"
   ]
  },
  {
   "cell_type": "code",
   "execution_count": 2,
   "metadata": {},
   "outputs": [],
   "source": [
    "## Example data\n",
    "\n",
    "L = 5  # 128 # in tests: 5\n",
    "spin = 0  # 2 # in tests: [0, 1, 2]\n",
    "sampling = \"dh\"  # in tests: [\"mw\", \"mwss\", \"dh\"]\n",
    "\n",
    "# generate spherical harmonics (ground truth)\n",
    "DEFAULT_SEED = 8966433580120847635\n",
    "rn_gen = np.random.default_rng(DEFAULT_SEED)\n",
    "flm_gt = s2f.utils.generate_flm(rn_gen, L, spin, reality=False)\n",
    "\n",
    "# compute signal in time domain (starting point)\n",
    "f = ssht.inverse(\n",
    "    s2f.samples.flm_2d_to_1d(flm_gt, L),  # 2D indexed coeffs to 1D indexed\n",
    "    L,\n",
    "    Method=sampling.upper(),\n",
    "    Spin=spin,\n",
    "    Reality=False,\n",
    ")\n",
    "\n",
    "device = jax.devices()[0]\n",
    "f = jax.device_put(f, device)  # transform f to DeviceArray and commit to device"
   ]
  },
  {
   "cell_type": "code",
   "execution_count": 3,
   "metadata": {},
   "outputs": [],
   "source": [
    "# resample f if required and compute theta\n",
    "if sampling.lower() == \"mw\":\n",
    "    f = resampling.mw_to_mwss(f, L, spin)\n",
    "\n",
    "if sampling.lower() in [\"mw\", \"mwss\"]:\n",
    "    sampling = \"mwss\"\n",
    "    f = resampling.upsample_by_two_mwss(f, L, spin)\n",
    "    thetas = samples.thetas(2 * L, sampling)\n",
    "else:\n",
    "    thetas = samples.thetas(L, sampling)\n",
    "\n",
    "# define el array\n",
    "el_array = jnp.array(range(spin, L), dtype=np.int64)"
   ]
  },
  {
   "cell_type": "code",
   "execution_count": 4,
   "metadata": {},
   "outputs": [
    {
     "name": "stdout",
     "output_type": "stream",
     "text": [
      "(10, 5, 9)\n",
      "<class 'numpy.ndarray'>\n"
     ]
    }
   ],
   "source": [
    "## Compute dl using wigner.turok.compute_slice (Naive approach)\n",
    "\n",
    "dl = np.zeros((len(thetas), len(range(spin, L)), 2 * L - 1), dtype=np.float64)\n",
    "for t, theta in enumerate(thetas):\n",
    "\n",
    "    for e, el in enumerate(range(spin, L)):  # enumerate(el_array)\n",
    "\n",
    "        dl[t, e, :] = wigner.turok.compute_slice(theta, el, L, -spin)\n",
    "\n",
    "print(dl.shape)\n",
    "print(type(dl))"
   ]
  },
  {
   "cell_type": "code",
   "execution_count": 5,
   "metadata": {},
   "outputs": [
    {
     "name": "stdout",
     "output_type": "stream",
     "text": [
      "(10, 5, 9)\n",
      "<class 'jaxlib.xla_extension.DeviceArray'>\n"
     ]
    }
   ],
   "source": [
    "## Compute dl w/ JAX approach (vmap + wigner.turok_jax.compute_slice)\n",
    "dl_vmapped_theta = jax.vmap(\n",
    "    wigner.turok_jax.compute_slice, in_axes=(0, None, None, None), out_axes=0\n",
    ")\n",
    "\n",
    "dl_vmapped = jax.vmap(dl_vmapped_theta, in_axes=(None, 0, None, None), out_axes=1)\n",
    "\n",
    "print(dl_vmapped(thetas, el_array, L, -spin).shape)\n",
    "print(type(dl_vmapped(thetas, el_array, L, -spin)))"
   ]
  },
  {
   "cell_type": "code",
   "execution_count": 8,
   "metadata": {},
   "outputs": [
    {
     "data": {
      "text/plain": [
       "array([[0.00000000e+00, 0.00000000e+00, 0.00000000e+00, 0.00000000e+00,\n",
       "        3.13154605e-04],\n",
       "       [0.00000000e+00, 0.00000000e+00, 0.00000000e+00, 0.00000000e+00,\n",
       "        2.22134542e-02],\n",
       "       [0.00000000e+00, 0.00000000e+00, 0.00000000e+00, 0.00000000e+00,\n",
       "        1.30728129e-01],\n",
       "       [0.00000000e+00, 0.00000000e+00, 0.00000000e+00, 0.00000000e+00,\n",
       "        3.29573720e-01],\n",
       "       [0.00000000e+00, 0.00000000e+00, 0.00000000e+00, 0.00000000e+00,\n",
       "        4.97632511e-01],\n",
       "       [0.00000000e+00, 0.00000000e+00, 0.00000000e+00, 0.00000000e+00,\n",
       "        4.97632511e-01],\n",
       "       [0.00000000e+00, 0.00000000e+00, 0.00000000e+00, 0.00000000e+00,\n",
       "        3.29573720e-01],\n",
       "       [0.00000000e+00, 0.00000000e+00, 0.00000000e+00, 0.00000000e+00,\n",
       "        1.30728129e-01],\n",
       "       [0.00000000e+00, 0.00000000e+00, 0.00000000e+00, 0.00000000e+00,\n",
       "        2.22134542e-02],\n",
       "       [0.00000000e+00, 0.00000000e+00, 0.00000000e+00, 0.00000000e+00,\n",
       "        3.13154605e-04]])"
      ]
     },
     "execution_count": 8,
     "metadata": {},
     "output_type": "execute_result"
    }
   ],
   "source": [
    "dl[:,:,0]"
   ]
  },
  {
   "cell_type": "code",
   "execution_count": 9,
   "metadata": {},
   "outputs": [
    {
     "data": {
      "text/plain": [
       "DeviceArray([[ 0.00000000e+00, -1.10615871e-01,  1.89233490e-01,\n",
       "               2.14004219e-03,  3.13154605e-04],\n",
       "             [ 0.00000000e+00, -3.21019761e-01,  4.95419707e-01,\n",
       "               5.23076616e-02,  2.22134542e-02],\n",
       "             [ 0.00000000e+00, -5.00000000e-01,  6.12372436e-01,\n",
       "               1.97642354e-01,  1.30728129e-01],\n",
       "             [ 0.00000000e+00, -6.30036755e-01,  4.95419707e-01,\n",
       "               3.95428223e-01,  3.29573720e-01],\n",
       "             [ 0.00000000e+00, -6.98401123e-01,  1.89233490e-01,\n",
       "               5.38622873e-01,  4.97632511e-01],\n",
       "             [ 0.00000000e+00, -6.98401123e-01, -1.89233490e-01,\n",
       "               5.38622873e-01,  4.97632511e-01],\n",
       "             [ 0.00000000e+00, -6.30036755e-01, -4.95419707e-01,\n",
       "               3.95428223e-01,  3.29573720e-01],\n",
       "             [ 0.00000000e+00, -5.00000000e-01, -6.12372436e-01,\n",
       "               1.97642354e-01,  1.30728129e-01],\n",
       "             [ 0.00000000e+00, -3.21019761e-01, -4.95419707e-01,\n",
       "               5.23076616e-02,  2.22134542e-02],\n",
       "             [ 0.00000000e+00, -1.10615871e-01, -1.89233490e-01,\n",
       "               2.14004219e-03,  3.13154605e-04]], dtype=float64)"
      ]
     },
     "execution_count": 9,
     "metadata": {},
     "output_type": "execute_result"
    }
   ],
   "source": [
    "dl_vmapped(thetas, el_array, L, -spin)[:,:,0]"
   ]
  },
  {
   "cell_type": "code",
   "execution_count": 11,
   "metadata": {},
   "outputs": [
    {
     "name": "stdout",
     "output_type": "stream",
     "text": [
      "1.9149505459360456\n",
      "False\n"
     ]
    }
   ],
   "source": [
    "# Compare\n",
    "print(jnp.max(jnp.abs(jnp.array(dl) - dl_vmapped(thetas, el_array, L, -spin))))\n",
    "\n",
    "print(\n",
    "    np.allclose(dl, \n",
    "                dl_vmapped(thetas, el_array, L, -spin), \n",
    "                atol=1e-14)\n",
    ")  # ----returns False?"
   ]
  },
  {
   "cell_type": "markdown",
   "metadata": {},
   "source": [
    "#### Some observations:\n",
    "- I think the vmap step is fine because if I use the jax version of the function (`wigner.turok_jax.compute_slice`), rather than the non-jax version (`wigner.turok.compute_slice`), the naive and vmapped approach match\n",
    "\n",
    "- I noticed that in the tests, the [test for turok_jax.compute_slice](https://github.com/astro-informatics/s2fft/blob/main/tests/test_wigner.py#L190) and [the test for turok.compute_slice](https://github.com/astro-informatics/s2fft/blob/main/tests/test_wigner.py#L167) don't use the same 'ground-truth' (there is an np.flip operation and they seem to check different slices) so maybe I'm missing something there?"
   ]
  }
 ],
 "metadata": {
  "kernelspec": {
   "display_name": "Python 3.9.13 ('jax-astro2')",
   "language": "python",
   "name": "python3"
  },
  "language_info": {
   "codemirror_mode": {
    "name": "ipython",
    "version": 3
   },
   "file_extension": ".py",
   "mimetype": "text/x-python",
   "name": "python",
   "nbconvert_exporter": "python",
   "pygments_lexer": "ipython3",
   "version": "3.9.13"
  },
  "orig_nbformat": 4,
  "vscode": {
   "interpreter": {
    "hash": "19ead953c785f1bded8bcc3e77394fab45d20188e9271c3b12915874810ab57b"
   }
  }
 },
 "nbformat": 4,
 "nbformat_minor": 2
}
