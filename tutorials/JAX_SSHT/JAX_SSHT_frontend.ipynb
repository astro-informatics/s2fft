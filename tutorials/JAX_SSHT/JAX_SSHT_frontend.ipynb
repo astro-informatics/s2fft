{
 "cells": [
  {
   "cell_type": "markdown",
   "metadata": {},
   "source": [
    "# __JAX SSHT frontend__\n",
    "---\n",
    "\n",
    "[![colab image](https://colab.research.google.com/assets/colab-badge.svg)](https://colab.research.google.com/github/astro-informatics/s2fft/blob/main/notebooks/JAX_SSHT_frontend.ipynb)"
   ]
  },
  {
   "cell_type": "code",
   "execution_count": 1,
   "metadata": {},
   "outputs": [],
   "source": [
    "import sys\n",
    "IN_COLAB = 'google.colab' in sys.modules\n",
    "\n",
    "# Install s2fft and data if running on google colab.\n",
    "if IN_COLAB:\n",
    "    !pip install s2fft &> /dev/null"
   ]
  },
  {
   "attachments": {},
   "cell_type": "markdown",
   "metadata": {},
   "source": [
    "This short tutorial demonstrates how to use the custom JAX frontend support `S2FFT` provides for the [`SSHT`](https://github.com/astro-informatics/ssht) C library.\n",
    "\n",
    "As with the other introductions, let's import some packages and define an arbitrary bandlimited signal to work with."
   ]
  },
  {
   "cell_type": "code",
   "execution_count": 2,
   "metadata": {},
   "outputs": [],
   "source": [
    "import jax\n",
    "jax.config.update(\"jax_enable_x64\", True)\n",
    "\n",
    "import numpy as np\n",
    "import s2fft \n",
    "\n",
    "L = 128\n",
    "method = \"jax_ssht\"\n",
    "rng = np.random.default_rng(23457801234570)\n",
    "flm = s2fft.utils.signal_generator.generate_flm(rng, L)\n",
    "f = s2fft.inverse(flm, L, method=method)"
   ]
  },
  {
   "attachments": {},
   "cell_type": "markdown",
   "metadata": {},
   "source": [
    "### Calling forward SSHT C function from JAX.\n",
    "\n",
    "---"
   ]
  },
  {
   "cell_type": "code",
   "execution_count": 3,
   "metadata": {},
   "outputs": [],
   "source": [
    "flm = s2fft.forward(f, L, method=method)"
   ]
  },
  {
   "attachments": {},
   "cell_type": "markdown",
   "metadata": {},
   "source": [
    "### Calling inverse SSHT C function from JAX.\n",
    "\n",
    "---"
   ]
  },
  {
   "cell_type": "code",
   "execution_count": 4,
   "metadata": {},
   "outputs": [],
   "source": [
    "f_recov = s2fft.inverse(flm, L, method=method)"
   ]
  },
  {
   "attachments": {},
   "cell_type": "markdown",
   "metadata": {},
   "source": [
    "### Computing the roundtrip error\n",
    "\n",
    "---\n",
    "\n",
    "Let's check the associated error, which should be close to machine precision for the sampling scheme used."
   ]
  },
  {
   "cell_type": "code",
   "execution_count": 5,
   "metadata": {},
   "outputs": [
    {
     "name": "stdout",
     "output_type": "stream",
     "text": [
      "Mean absolute error = 7.784372519411174e-13\n"
     ]
    }
   ],
   "source": [
    "print(f\"Mean absolute error = {np.nanmean(np.abs(f_recov - f))}\")"
   ]
  },
  {
   "cell_type": "markdown",
   "metadata": {},
   "source": [
    "### Differentiating through SSHT C functions.\n",
    "\n",
    "---\n",
    "\n",
    "So far all this is doing is providing an interface between `JAX` and `SSHT`, the real novelty comes when we differentiate through the C library."
   ]
  },
  {
   "cell_type": "code",
   "execution_count": 6,
   "metadata": {},
   "outputs": [],
   "source": [
    "# Define an arbitrary JAX function\n",
    "def differentiable_test(flm) -> int:\n",
    "    f = s2fft.inverse(flm, L, method=method)\n",
    "    return jax.numpy.nanmean(jax.numpy.abs(f)**2)\n",
    "\n",
    "# Create the JAX reverse mode gradient function\n",
    "gradient_func = jax.grad(differentiable_test)\n",
    "\n",
    "# Compute the gradient automatically\n",
    "gradient = gradient_func(flm)"
   ]
  },
  {
   "cell_type": "markdown",
   "metadata": {},
   "source": [
    "### Validating these gradients\n",
    "\n",
    "---\n",
    "This is all well and good, but how do we know these gradients are correct? Thankfully `JAX` prvoides a simple function to check this..."
   ]
  },
  {
   "cell_type": "code",
   "execution_count": 7,
   "metadata": {},
   "outputs": [],
   "source": [
    "from jax.test_util import check_grads\n",
    "check_grads(differentiable_test, (flm,), order=1, modes=(\"rev\"))"
   ]
  }
 ],
 "metadata": {
  "kernelspec": {
   "display_name": "Python 3.10.4 ('s2fft')",
   "language": "python",
   "name": "python3"
  },
  "language_info": {
   "codemirror_mode": {
    "name": "ipython",
    "version": 3
   },
   "file_extension": ".py",
   "mimetype": "text/x-python",
   "name": "python",
   "nbconvert_exporter": "python",
   "pygments_lexer": "ipython3",
   "version": "3.10.0"
  },
  "vscode": {
   "interpreter": {
    "hash": "3425e24474cbe920550266ea26b478634978cc419579f9dbcf479231067df6a3"
   }
  }
 },
 "nbformat": 4,
 "nbformat_minor": 2
}
