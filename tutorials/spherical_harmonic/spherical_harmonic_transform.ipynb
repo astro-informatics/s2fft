{
 "cells": [
  {
   "cell_type": "markdown",
   "metadata": {},
   "source": [
    "# __Spherical harmonic transform__\n",
    "\n",
    "---\n",
    "\n"
   ]
  },
  {
   "attachments": {},
   "cell_type": "markdown",
   "metadata": {},
   "source": [
    "This tutorial demonstrates how to use `S2FFT` to compute spherical harmonic transforms.\n",
    "\n",
    "Specifically, we will adopt the sampling scheme of [McEwen & Wiaux (2012)](https://arxiv.org/abs/1110.6298). \n",
    "\n",
    "First let's load an input signal that is sampled on the sphere with this sampling scheme.  We'll consider the Galactic plane map captured by ESA's [Gaia satellite](https://sci.esa.int/web/gaia)!"
   ]
  },
  {
   "cell_type": "code",
   "execution_count": null,
   "metadata": {},
   "outputs": [],
   "source": [
    "import numpy as np\n",
    "import s2fft \n",
    "\n",
    "L = 1000\n",
    "sampling = \"mw\"\n",
    "f = np.load('data/Gaia_EDR3_flux.npy')"
   ]
  },
  {
   "attachments": {},
   "cell_type": "markdown",
   "metadata": {},
   "source": [
    "Now, lets take a look at the data on the sphere using [PyVista](https://docs.pyvista.org/index.html). "
   ]
  },
  {
   "cell_type": "code",
   "execution_count": null,
   "metadata": {},
   "outputs": [],
   "source": [
    "s2fft.utils.plotting_functions.plot_sphere(f, L, sampling, isnotebook=True)"
   ]
  },
  {
   "attachments": {},
   "cell_type": "markdown",
   "metadata": {},
   "source": [
    "### Computing the forward spherical harmonic transform\n",
    "\n",
    "---\n",
    "\n",
    "Let's now run the JAX function to compute the spherical harmonic transform of this observational map."
   ]
  },
  {
   "cell_type": "code",
   "execution_count": null,
   "metadata": {},
   "outputs": [],
   "source": [
    "flm = s2fft.forward_jax(f, L, reality=True)"
   ]
  },
  {
   "attachments": {},
   "cell_type": "markdown",
   "metadata": {},
   "source": [
    "If you are planning on applying this transform many times (e.g. during training of a model) we recommend precomputing and storing some small arrays that are used every time. To do this simply compute these and pass as a static argument."
   ]
  },
  {
   "cell_type": "code",
   "execution_count": null,
   "metadata": {},
   "outputs": [],
   "source": [
    "precomps = s2fft.generate_precomputes_jax(L, forward=True)\n",
    "flm_pre = s2fft.forward_jax(f, L, reality=True, precomps=precomps)"
   ]
  },
  {
   "attachments": {},
   "cell_type": "markdown",
   "metadata": {},
   "source": [
    "### Computing the inverse spherical harmonic transform\n",
    "\n",
    "---\n",
    "\n",
    "Let's run the JAX function to cmpute the inverse spherical harmonic transform to get back to the observational map."
   ]
  },
  {
   "cell_type": "code",
   "execution_count": null,
   "metadata": {},
   "outputs": [],
   "source": [
    "f_recov = s2fft.inverse_jax(flm, L, reality=True)"
   ]
  },
  {
   "attachments": {},
   "cell_type": "markdown",
   "metadata": {},
   "source": [
    "Again, if you are planning on applying this transform many times we recommend precomputing and storing some small arrays that are used every time. To do this simply compute these and pass as a static argument."
   ]
  },
  {
   "cell_type": "code",
   "execution_count": null,
   "metadata": {},
   "outputs": [],
   "source": [
    "precomps = s2fft.generate_precomputes_jax(L, forward=False)\n",
    "f_recov_pre = s2fft.inverse_jax(flm_pre, L, reality=True, precomps=precomps)"
   ]
  },
  {
   "attachments": {},
   "cell_type": "markdown",
   "metadata": {},
   "source": [
    "### Computing the error\n",
    "\n",
    "---\n",
    "\n",
    "Let's check the associated error, which should be close to machine precision for the sampling scheme used."
   ]
  },
  {
   "cell_type": "code",
   "execution_count": null,
   "metadata": {},
   "outputs": [],
   "source": [
    "print(f\"Mean absolute error = {np.nanmean(np.abs(np.real(f_recov) - f))}\")"
   ]
  },
  {
   "cell_type": "code",
   "execution_count": null,
   "metadata": {},
   "outputs": [],
   "source": [
    "print(f\"Mean absolute error using precomputes = {np.nanmean(np.abs(np.real(f_recov_pre) - f))}\")"
   ]
  }
 ],
 "metadata": {
  "kernelspec": {
   "display_name": "Python 3.9.0 ('s2fft')",
   "language": "python",
   "name": "python3"
  },
  "language_info": {
   "codemirror_mode": {
    "name": "ipython",
    "version": 3
   },
   "file_extension": ".py",
   "mimetype": "text/x-python",
   "name": "python",
   "nbconvert_exporter": "python",
   "pygments_lexer": "ipython3",
   "version": "3.9.0"
  },
  "vscode": {
   "interpreter": {
    "hash": "3425e24474cbe920550266ea26b478634978cc419579f9dbcf479231067df6a3"
   }
  }
 },
 "nbformat": 4,
 "nbformat_minor": 2
}
