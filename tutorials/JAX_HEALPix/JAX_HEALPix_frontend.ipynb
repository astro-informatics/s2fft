{
 "cells": [
  {
   "cell_type": "markdown",
   "metadata": {},
   "source": [
    "# __JAX HEALPix frontend__\n",
    "---\n",
    "\n",
    "[![colab image](https://colab.research.google.com/assets/colab-badge.svg)](https://colab.research.google.com/github/astro-informatics/s2fft/blob/main/notebooks/JAX_HEALPix_frontend.ipynb)"
   ]
  },
  {
   "cell_type": "code",
   "execution_count": 1,
   "metadata": {},
   "outputs": [],
   "source": [
    "import sys\n",
    "IN_COLAB = 'google.colab' in sys.modules\n",
    "\n",
    "# Install s2fft and data if running on google colab.\n",
    "if IN_COLAB:\n",
    "    !pip install s2fft &> /dev/null"
   ]
  },
  {
   "attachments": {},
   "cell_type": "markdown",
   "metadata": {},
   "source": [
    "This short tutorial demonstrates how to use the custom JAX frontend support `S2FFT` provides for the [`HEALPix`](https://healpix.jpl.nasa.gov) C++ library.  This solves the long JIT compile time for HEALPix when running on CPU.\n",
    "\n",
    "As with the other introductions, let's import some packages and define an arbitrary bandlimited signal to work with."
   ]
  },
  {
   "cell_type": "code",
   "execution_count": 2,
   "metadata": {},
   "outputs": [],
   "source": [
    "import jax\n",
    "jax.config.update(\"jax_enable_x64\", True)\n",
    "\n",
    "import numpy as np\n",
    "import s2fft \n",
    "\n",
    "L = 128\n",
    "nside = 64\n",
    "method = \"jax_healpy\"\n",
    "sampling = \"healpix\"\n",
    "rng = np.random.default_rng(23457801234570)\n",
    "flm = s2fft.utils.signal_generator.generate_flm(rng, L)\n",
    "f = s2fft.inverse(flm, L, nside=nside, sampling=sampling, method=method)"
   ]
  },
  {
   "attachments": {},
   "cell_type": "markdown",
   "metadata": {},
   "source": [
    "### Calling forward HEALPix C++ function from JAX.\n",
    "\n",
    "---"
   ]
  },
  {
   "cell_type": "code",
   "execution_count": 3,
   "metadata": {},
   "outputs": [],
   "source": [
    "flm = s2fft.forward(f, L, nside=nside, sampling=sampling, method=method)"
   ]
  },
  {
   "attachments": {},
   "cell_type": "markdown",
   "metadata": {},
   "source": [
    "### Calling inverse HEALPix C++ function from JAX.\n",
    "\n",
    "---"
   ]
  },
  {
   "cell_type": "code",
   "execution_count": 4,
   "metadata": {},
   "outputs": [],
   "source": [
    "f_recov = s2fft.inverse(flm, L, nside=nside, sampling=sampling,  method=method)"
   ]
  },
  {
   "attachments": {},
   "cell_type": "markdown",
   "metadata": {},
   "source": [
    "### Computing the roundtrip error\n",
    "\n",
    "---\n",
    "\n",
    "Let's check the associated error, which should be around 1e-5 for healpix, which is not an exact sampling of the sphere. Note that increasing `iters` will reduce the numerical error here slightly, at the cost of linearly increased compute."
   ]
  },
  {
   "cell_type": "code",
   "execution_count": 5,
   "metadata": {},
   "outputs": [
    {
     "name": "stdout",
     "output_type": "stream",
     "text": [
      "Mean absolute error = 2.5921182352491347e-06\n"
     ]
    }
   ],
   "source": [
    "print(f\"Mean absolute error = {np.nanmean(np.abs(f_recov - f))}\")"
   ]
  },
  {
   "cell_type": "markdown",
   "metadata": {},
   "source": [
    "### Differentiating through HEALPix C++ functions.\n",
    "\n",
    "---\n",
    "\n",
    "So far all this is doing is providing an interface between `JAX` and `HEALPix`, the real novelty comes when we differentiate through the C++ library."
   ]
  },
  {
   "cell_type": "code",
   "execution_count": 6,
   "metadata": {},
   "outputs": [],
   "source": [
    "# Define an arbitrary JAX function\n",
    "def differentiable_test(flm) -> int:\n",
    "    f = s2fft.inverse(flm, L, nside=nside, sampling=sampling, method=method)\n",
    "    return jax.numpy.nanmean(jax.numpy.abs(f)**2)\n",
    "\n",
    "# Create the JAX reverse mode gradient function\n",
    "gradient_func = jax.grad(differentiable_test)\n",
    "\n",
    "# Compute the gradient automatically\n",
    "gradient = gradient_func(flm)"
   ]
  },
  {
   "cell_type": "markdown",
   "metadata": {},
   "source": [
    "### Validating these gradients\n",
    "\n",
    "---\n",
    "This is all well and good, but how do we know these gradients are correct? Thankfully `JAX` prvoides a simple function to check this..."
   ]
  },
  {
   "cell_type": "code",
   "execution_count": 7,
   "metadata": {},
   "outputs": [],
   "source": [
    "from jax.test_util import check_grads\n",
    "check_grads(differentiable_test, (flm,), order=1, modes=(\"rev\"))"
   ]
  }
 ],
 "metadata": {
  "kernelspec": {
   "display_name": "Python 3.10.4 ('s2fft')",
   "language": "python",
   "name": "python3"
  },
  "language_info": {
   "codemirror_mode": {
    "name": "ipython",
    "version": 3
   },
   "file_extension": ".py",
   "mimetype": "text/x-python",
   "name": "python",
   "nbconvert_exporter": "python",
   "pygments_lexer": "ipython3",
   "version": "3.10.0"
  },
  "vscode": {
   "interpreter": {
    "hash": "3425e24474cbe920550266ea26b478634978cc419579f9dbcf479231067df6a3"
   }
  }
 },
 "nbformat": 4,
 "nbformat_minor": 2
}
