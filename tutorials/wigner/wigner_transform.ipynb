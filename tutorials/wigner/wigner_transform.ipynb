{
 "cells": [
  {
   "cell_type": "markdown",
   "metadata": {},
   "source": [
    "# __Wigner transform__\n",
    "---\n",
    "\n",
    "[![colab image](https://colab.research.google.com/assets/colab-badge.svg)](https://colab.research.google.com/github/astro-informatics/s2fft/blob/main/notebooks/wigner_transform.ipynb)"
   ]
  },
  {
   "cell_type": "code",
   "execution_count": 1,
   "metadata": {},
   "outputs": [],
   "source": [
    "import sys\n",
    "IN_COLAB = 'google.colab' in sys.modules\n",
    "\n",
    "# Install s2fft and data if running on google colab.\n",
    "if IN_COLAB:\n",
    "    !pip install s2fft &> /dev/null"
   ]
  },
  {
   "attachments": {},
   "cell_type": "markdown",
   "metadata": {},
   "source": [
    "This tutorial demonstrates how to use `S2FFT` to compute Wigner transforms, i.e. Fourier transforms on the rotation group SO(3).\n",
    "\n",
    "Specifically, we will adopt the sampling scheme of [McEwen et al. (2015)](https://arxiv.org/abs/1508.03101). \n",
    "\n",
    "To demonstrate how to compute ``S2FFT`` Wigner transforms we will first construct an input signal that is sampled on the rotation group using this sampling scheme.  We'll simply construct a random test signal in harmonic space for demonstration purposes."
   ]
  },
  {
   "cell_type": "code",
   "execution_count": 2,
   "metadata": {},
   "outputs": [],
   "source": [
    "import jax\n",
    "jax.config.update(\"jax_enable_x64\", True)\n",
    "\n",
    "import numpy as np\n",
    "import s2fft \n",
    "\n",
    "L = 128\n",
    "N = 3\n",
    "reality = True\n",
    "rng = np.random.default_rng(83459)\n",
    "flmn = s2fft.utils.signal_generator.generate_flmn(rng, L, N, reality=reality)"
   ]
  },
  {
   "attachments": {},
   "cell_type": "markdown",
   "metadata": {},
   "source": [
    "### Computing the inverse Wigner transform\n",
    "\n",
    "---\n",
    "Let's run the JAX function to compute the inverse Wigner transform of this random signal."
   ]
  },
  {
   "cell_type": "code",
   "execution_count": 3,
   "metadata": {},
   "outputs": [],
   "source": [
    "f = s2fft.wigner.inverse_jax(flmn, L, N, reality=reality)"
   ]
  },
  {
   "attachments": {},
   "cell_type": "markdown",
   "metadata": {},
   "source": [
    "If you are planning on applying this transform many times (e.g. during training of a model) we recommend precomputing and storing some small arrays that are used every time. To do this simply compute these and pass as a static argument."
   ]
  },
  {
   "cell_type": "code",
   "execution_count": 4,
   "metadata": {},
   "outputs": [],
   "source": [
    "precomps = s2fft.generate_precomputes_wigner_jax(L, N, forward=False, reality=reality)\n",
    "f_pre = s2fft.wigner.inverse_jax(flmn, L, N, reality=reality, precomps=precomps)"
   ]
  },
  {
   "attachments": {},
   "cell_type": "markdown",
   "metadata": {},
   "source": [
    "### Computing the forward Wigner transform\n",
    "\n",
    "---\n",
    "Let's run the JAX function to compute the forward Wigner transforms to get us back to the random Wigner coefficients."
   ]
  },
  {
   "cell_type": "code",
   "execution_count": 5,
   "metadata": {},
   "outputs": [],
   "source": [
    "flmn_recov = s2fft.wigner.forward_jax(f, L, N, reality=reality)"
   ]
  },
  {
   "attachments": {},
   "cell_type": "markdown",
   "metadata": {},
   "source": [
    "Again, if you are planning on applying this transform many times (e.g. during training of a model) we recommend precomputing and storing some small arrays that are used every time. To do this simply compute these and pass as a static argument."
   ]
  },
  {
   "cell_type": "code",
   "execution_count": 6,
   "metadata": {},
   "outputs": [],
   "source": [
    "precomps = s2fft.generate_precomputes_wigner_jax(L, N, forward=True, reality=reality)\n",
    "flmn_recov_pre = s2fft.wigner.forward_jax(f_pre, L, N, reality=reality, precomps=precomps)"
   ]
  },
  {
   "attachments": {},
   "cell_type": "markdown",
   "metadata": {},
   "source": [
    "### Computing the error\n",
    "\n",
    "---\n",
    "\n",
    "Let's check the roundtrip error, which should be close to machine precision for the sampling theorem used."
   ]
  },
  {
   "cell_type": "code",
   "execution_count": 7,
   "metadata": {},
   "outputs": [
    {
     "name": "stdout",
     "output_type": "stream",
     "text": [
      "Mean absolute error = 5.1348799839254916e-14\n"
     ]
    }
   ],
   "source": [
    "print(f\"Mean absolute error = {np.nanmean(np.abs(flmn_recov - flmn))}\")"
   ]
  },
  {
   "cell_type": "code",
   "execution_count": 8,
   "metadata": {},
   "outputs": [
    {
     "name": "stdout",
     "output_type": "stream",
     "text": [
      "Mean absolute error using precomputes = 5.1348799839254916e-14\n"
     ]
    }
   ],
   "source": [
    "print(f\"Mean absolute error using precomputes = {np.nanmean(np.abs(flmn_recov_pre - flmn))}\")"
   ]
  }
 ],
 "metadata": {
  "kernelspec": {
   "display_name": "Python 3.10.0 ('s2fft')",
   "language": "python",
   "name": "python3"
  },
  "language_info": {
   "codemirror_mode": {
    "name": "ipython",
    "version": 3
   },
   "file_extension": ".py",
   "mimetype": "text/x-python",
   "name": "python",
   "nbconvert_exporter": "python",
   "pygments_lexer": "ipython3",
   "version": "3.10.0"
  },
  "vscode": {
   "interpreter": {
    "hash": "3425e24474cbe920550266ea26b478634978cc419579f9dbcf479231067df6a3"
   }
  }
 },
 "nbformat": 4,
 "nbformat_minor": 2
}
